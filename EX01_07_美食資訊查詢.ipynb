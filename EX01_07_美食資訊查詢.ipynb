{
  "nbformat": 4,
  "nbformat_minor": 0,
  "metadata": {
    "colab": {
      "provenance": [],
      "authorship_tag": "ABX9TyOgS0OdprvT8ZRbqPdv3rnC",
      "include_colab_link": true
    },
    "kernelspec": {
      "name": "python3",
      "display_name": "Python 3"
    },
    "language_info": {
      "name": "python"
    }
  },
  "cells": [
    {
      "cell_type": "markdown",
      "metadata": {
        "id": "view-in-github",
        "colab_type": "text"
      },
      "source": [
        "<a href=\"https://colab.research.google.com/github/gracelin0711/20250218/blob/main/EX01_07_%E7%BE%8E%E9%A3%9F%E8%B3%87%E8%A8%8A%E6%9F%A5%E8%A9%A2.ipynb\" target=\"_parent\"><img src=\"https://colab.research.google.com/assets/colab-badge.svg\" alt=\"Open In Colab\"/></a>"
      ]
    },
    {
      "cell_type": "code",
      "source": [
        "!pip install gradio"
      ],
      "metadata": {
        "id": "BuVTHHzyCSKf"
      },
      "execution_count": null,
      "outputs": []
    },
    {
      "cell_type": "code",
      "execution_count": null,
      "metadata": {
        "colab": {
          "base_uri": "https://localhost:8080/",
          "height": 680
        },
        "id": "wlI_NU0lzrHx",
        "outputId": "2aea5475-c0a3-40ba-d0c1-1f482a8dbcd2"
      },
      "outputs": [
        {
          "output_type": "stream",
          "name": "stdout",
          "text": [
            "['春蘭割包', '上海生煎湯包', '岡山舊市羊肉', '黃家肉燥飯', '龍記餡餅', '春蘭割包', '上海生煎湯包', '岡山舊市羊肉', '黃家肉燥飯', '龍記餡餅']\n",
            "上海生煎湯包\n",
            "Running Gradio in a Colab notebook requires sharing enabled. Automatically setting `share=True` (you can turn this off by setting `share=False` in `launch()` explicitly).\n",
            "\n",
            "Colab notebook detected. To show errors in colab notebook, set debug=True in launch()\n",
            "* Running on public URL: https://644e9af3aac2250897.gradio.live\n",
            "\n",
            "This share link expires in 72 hours. For free permanent hosting and GPU upgrades, run `gradio deploy` from the terminal in the working directory to deploy to Hugging Face Spaces (https://huggingface.co/spaces)\n"
          ]
        },
        {
          "output_type": "display_data",
          "data": {
            "text/plain": [
              "<IPython.core.display.HTML object>"
            ],
            "text/html": [
              "<div><iframe src=\"https://644e9af3aac2250897.gradio.live\" width=\"100%\" height=\"500\" allow=\"autoplay; camera; microphone; clipboard-read; clipboard-write;\" frameborder=\"0\" allowfullscreen></iframe></div>"
            ]
          },
          "metadata": {}
        },
        {
          "output_type": "execute_result",
          "data": {
            "text/plain": []
          },
          "metadata": {},
          "execution_count": 11
        }
      ],
      "source": [
        "\n",
        "\n",
        "import gradio as gr\n",
        "\n",
        "food_database = [\n",
        "    {\"name\": \"春蘭割包\", \"address\": \"800高雄市新興區復興一路5號\", \"phone\": \"+88672017806\"},\n",
        "    {\"name\": \"上海生煎湯包\", \"address\": \"807高雄市三民區熱河一街208號\", \"phone\": \"+88673220702\"},\n",
        "    {\"name\": \"岡山舊市羊肉\", \"address\": \"820高雄市岡山區河華路111號\", \"phone\": \"+88676258151\"},\n",
        "    {\"name\": \"黃家肉燥飯\", \"address\": \"825高雄市橋頭區橋南路106號\", \"phone\": \"+88676123253\"},\n",
        "    {\"name\": \"龍記餡餅\", \"address\": \"820高雄市岡山區溪東路2號\", \"phone\": \"\"}\n",
        "]\n",
        "\n",
        "#menu =[ im[\"name\"] for im in food_database]\n",
        "for im in food_database:\n",
        "    menu.append(im[\"name\"])\n",
        "print(menu)\n",
        "st = input()\n",
        "menu = [im[\"name\"] for im in food_database]\n",
        "\n",
        "\n",
        "def food_info(store_name):\n",
        "  info =''\n",
        "  for im in food_database:\n",
        "    if store_name == im[\"name\"]:\n",
        "        info = im[\"name\"] + '\\n' + im[\"address\"] + '\\n' + im[\"phone\"]\n",
        "        return info\n",
        "  return 'Not found'\n",
        "# 建立介面\n",
        "interface = gr.Interface(\n",
        "    fn=food_info,  # 要建立介面的函數\n",
        "    inputs=gr.Dropdown(choices=menu, label='請選擇一間餐廳:'),  # 輸入類型\n",
        "    outputs=gr.Textbox(label='餐廳資訊')  # 輸出類型\n",
        ")\n",
        "# 啟動介面\n",
        "interface.launch()"
      ]
    },
    {
      "cell_type": "code",
      "source": [
        "import gradio as gr\n",
        "def greet(name):\n",
        "    return f\"Hello, {name}!\"\n",
        "# 建立介面\n",
        "interface = gr.Interface(\n",
        "    fn=greet,  # 要建立介面的函數\n",
        "    inputs=\"textbox\",  # 輸入類型\n",
        "    outputs=\"textbox\"  # 輸出類型\n",
        ")\n",
        "# 啟動介面\n",
        "interface.launch()"
      ],
      "metadata": {
        "id": "WQSPgkQh401w"
      },
      "execution_count": null,
      "outputs": []
    }
  ]
}