{
  "nbformat": 4,
  "nbformat_minor": 0,
  "metadata": {
    "colab": {
      "provenance": [],
      "authorship_tag": "ABX9TyOuLm4haa844XwcEYu7F0y7",
      "include_colab_link": true
    },
    "kernelspec": {
      "name": "python3",
      "display_name": "Python 3"
    },
    "language_info": {
      "name": "python"
    }
  },
  "cells": [
    {
      "cell_type": "markdown",
      "metadata": {
        "id": "view-in-github",
        "colab_type": "text"
      },
      "source": [
        "<a href=\"https://colab.research.google.com/github/gracelin0711/20250218/blob/main/EX01_04%E7%B5%82%E6%A5%B5%E5%AF%86%E7%A2%BC.ipynb\" target=\"_parent\"><img src=\"https://colab.research.google.com/assets/colab-badge.svg\" alt=\"Open In Colab\"/></a>"
      ]
    },
    {
      "cell_type": "code",
      "execution_count": 4,
      "metadata": {
        "id": "8KuXX7sBh0Kx",
        "colab": {
          "base_uri": "https://localhost:8080/"
        },
        "outputId": "d58d88c4-8872-484d-e4be-1584f3c705b7"
      },
      "outputs": [
        {
          "output_type": "stream",
          "name": "stdout",
          "text": [
            "0 - 100\n",
            "guess:56\n",
            "56 - 100\n",
            "guess:80\n",
            "80 - 100\n",
            "guess:90\n",
            "80 - 90\n",
            "guess:85\n",
            "85 - 90\n",
            "guess:89\n",
            "猜中\n"
          ]
        }
      ],
      "source": [
        "#取得隨機1-99亂數\n",
        "import random\n",
        "num = random.randint(1,99)\n",
        "\n",
        "lf = 0\n",
        "rt = 100\n",
        "\n",
        "input\n",
        "#\n",
        "while True:\n",
        "  #顯示猜測範圍\n",
        "  print(lf,\"-\",rt)\n",
        "  gu = int (input('guess:'))\n",
        "  #超過範圍\n",
        "  if gu <= lf or gu >= rt:\n",
        "    print('超過範圍')\n",
        "  #比炸彈小\n",
        "  elif gu < num:\n",
        "    lf = gu\n",
        "  #比炸彈大\n",
        "  elif gu > num:\n",
        "    rt = gu\n",
        "  #猜中\n",
        "  else:\n",
        "    print('猜中')\n",
        "    break"
      ]
    }
  ]
}