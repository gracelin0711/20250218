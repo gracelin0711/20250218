{
  "nbformat": 4,
  "nbformat_minor": 0,
  "metadata": {
    "colab": {
      "provenance": [],
      "authorship_tag": "ABX9TyMhFTWn2Kyo1nMuZMs/tqOW",
      "include_colab_link": true
    },
    "kernelspec": {
      "name": "python3",
      "display_name": "Python 3"
    },
    "language_info": {
      "name": "python"
    }
  },
  "cells": [
    {
      "cell_type": "markdown",
      "metadata": {
        "id": "view-in-github",
        "colab_type": "text"
      },
      "source": [
        "<a href=\"https://colab.research.google.com/github/gracelin0711/20250218/blob/main/EX01_02BMI%E8%A8%88%E7%AE%97.ipynb\" target=\"_parent\"><img src=\"https://colab.research.google.com/assets/colab-badge.svg\" alt=\"Open In Colab\"/></a>"
      ]
    },
    {
      "cell_type": "code",
      "execution_count": null,
      "metadata": {
        "colab": {
          "base_uri": "https://localhost:8080/"
        },
        "id": "KWRQamEmK6O7",
        "outputId": "42dcf313-572c-40b4-d5c3-ac14428df1b1"
      },
      "outputs": [
        {
          "output_type": "stream",
          "name": "stdout",
          "text": [
            "height(cm):162\n",
            "weight(kg):50\n",
            "BMI: 19.1\n"
          ]
        }
      ],
      "source": [
        "#取得體重和身高\n",
        "ht = float( input(\"height(cm):\"))\n",
        "wt = float( input(\"weight(kg):\"))\n",
        "#計算bmi\n",
        "bmi = wt / (ht/100)**2\n",
        "print(\"BMI:\",round(bmi,1))"
      ]
    },
    {
      "cell_type": "code",
      "source": [],
      "metadata": {
        "id": "-WF_p9iLMu0k"
      },
      "execution_count": null,
      "outputs": []
    }
  ]
}