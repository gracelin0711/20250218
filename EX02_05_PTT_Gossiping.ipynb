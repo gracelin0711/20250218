{
  "nbformat": 4,
  "nbformat_minor": 0,
  "metadata": {
    "colab": {
      "provenance": [],
      "authorship_tag": "ABX9TyNhz5Ejx3nxgV43raLBmeg1",
      "include_colab_link": true
    },
    "kernelspec": {
      "name": "python3",
      "display_name": "Python 3"
    },
    "language_info": {
      "name": "python"
    }
  },
  "cells": [
    {
      "cell_type": "markdown",
      "metadata": {
        "id": "view-in-github",
        "colab_type": "text"
      },
      "source": [
        "<a href=\"https://colab.research.google.com/github/gracelin0711/20250218/blob/main/EX02_05_PTT_Gossiping.ipynb\" target=\"_parent\"><img src=\"https://colab.research.google.com/assets/colab-badge.svg\" alt=\"Open In Colab\"/></a>"
      ]
    },
    {
      "cell_type": "code",
      "execution_count": null,
      "metadata": {
        "colab": {
          "base_uri": "https://localhost:8080/"
        },
        "id": "yZl2fA4y-n69",
        "outputId": "6b580cb3-682d-4234-d6cd-4743dfb8babb"
      },
      "outputs": [
        {
          "output_type": "execute_result",
          "data": {
            "text/plain": [
              "200"
            ]
          },
          "metadata": {},
          "execution_count": 1
        }
      ],
      "source": [
        "import requests\n",
        "from bs4 import BeautifulSoup\n",
        "\n",
        "url = 'https://www.ptt.cc/bbs/Movie/index.html'\n",
        "response = requests.get(url)\n",
        "response.status_code"
      ]
    },
    {
      "cell_type": "code",
      "source": [
        "soup = BeautifulSoup(response.text,'lxml')\n",
        "soup.title"
      ],
      "metadata": {
        "colab": {
          "base_uri": "https://localhost:8080/"
        },
        "id": "_6zme1SEAj4o",
        "outputId": "a225c060-afe0-4420-c69c-9077b1be4e6c"
      },
      "execution_count": null,
      "outputs": [
        {
          "output_type": "execute_result",
          "data": {
            "text/plain": [
              "<title>看板 movie 文章列表 - 批踢踢實業坊</title>"
            ]
          },
          "metadata": {},
          "execution_count": 71
        }
      ]
    },
    {
      "cell_type": "code",
      "source": [
        "for atcl in soup.find_all('div',class_='r-ent'):\n",
        "     if atcl.find('div',class_='title').a:\n",
        "      ttle = atcl.find('div',class_='title').a.text\n",
        "      href = 'https://www.ptt.cc/'+atcl.find('div',class_='title').a.get('href')\n",
        "     else:\n",
        "      ttle = atcl.find('div',class_='title').text.strip()\n",
        "      href = ''\n",
        "     date = atcl.find('div',class_='date').text\n",
        "     print(date,href,ttle)"
      ],
      "metadata": {
        "colab": {
          "base_uri": "https://localhost:8080/"
        },
        "id": "OqPkxCcFbKOf",
        "outputId": "bcf5c1d0-875c-4cff-a476-4a197f1aa409"
      },
      "execution_count": null,
      "outputs": [
        {
          "output_type": "stream",
          "name": "stdout",
          "text": [
            " 3/28  (本文已被刪除) [XDGEE]\n",
            " 3/28 https://www.ptt.cc//bbs/movie/M.1743092826.A.44B.html [新聞] 真人《馴龍高手》角色個人海報！「龍族」\n",
            " 3/28 https://www.ptt.cc//bbs/movie/M.1743093033.A.01D.html [新聞] 亞曼達塞佛瑞「害怕」而拒演出葛摩菈！\n",
            " 3/28 https://www.ptt.cc//bbs/movie/M.1743099431.A.EBC.html [公告] 水桶\n",
            " 3/28 https://www.ptt.cc//bbs/movie/M.1743107293.A.BB5.html [討論] 看完玩命關頭X 蜜亞的疑問\n",
            " 3/28 https://www.ptt.cc//bbs/movie/M.1743109813.A.C7B.html [情報] 8號出口 真人電影化 特報影片&演員公開\n",
            " 3/28 https://www.ptt.cc//bbs/movie/M.1743117136.A.61F.html [情報]  李奧納多《一戰再戰》正式預告\n",
            " 3/28 https://www.ptt.cc//bbs/movie/M.1743117468.A.0CF.html [情報] 陰陽眼見子 真人電影化 海報&預告公開\n",
            " 9/04 https://www.ptt.cc//bbs/movie/M.1630756788.A.1FE.html [公告] 電影板板規 2022/12/5\n",
            " 9/15 https://www.ptt.cc//bbs/movie/M.1694784041.A.89F.html [公告] 禁政治版規 及 投票結果\n"
          ]
        }
      ]
    },
    {
      "cell_type": "code",
      "source": [
        " 'https://www.ptt.cc/' + soup.find_all('a',class_='btn wide')[1].get('href')"
      ],
      "metadata": {
        "colab": {
          "base_uri": "https://localhost:8080/",
          "height": 35
        },
        "id": "Xhf1IJLcOegx",
        "outputId": "258394a5-10f6-4f6f-c5cf-c1cf0da28d69"
      },
      "execution_count": null,
      "outputs": [
        {
          "output_type": "execute_result",
          "data": {
            "text/plain": [
              "'https://www.ptt.cc//bbs/movie/index10545.html'"
            ],
            "application/vnd.google.colaboratory.intrinsic+json": {
              "type": "string"
            }
          },
          "metadata": {},
          "execution_count": 55
        }
      ]
    },
    {
      "cell_type": "code",
      "source": [
        "def get_articles(url):\n",
        "   response = requests.get(url)\n",
        "   soup = BeautifulSoup(response.text,'lxml')\n",
        "   for atcl in soup.find_all('div',class_='r-ent'):\n",
        "     if atcl.find('div',class_='title').a:\n",
        "      ttle = atcl.find('div',class_='title').a.text\n",
        "      href = 'https://www.ptt.cc/'+atcl.find('div',class_='title').a.get('href')\n",
        "     else:\n",
        "      ttle = atcl.find('div',class_='title').text.strip()\n",
        "      href = ''\n",
        "     date = atcl.find('div',class_='date').text\n",
        "     print(date,href,ttle)\n",
        "   url = 'https://www.ptt.cc/'+soup.find_all('a',class_='btn wide')[1].get('href')\n",
        "   return url\n",
        "url = 'https://www.ptt.cc/bbs/Movie/index.html'\n",
        "for i in range(5):\n",
        "  url = get_articles(url)"
      ],
      "metadata": {
        "colab": {
          "base_uri": "https://localhost:8080/"
        },
        "id": "S7Q-hEw4O612",
        "outputId": "96160398-f80c-4ced-d8a2-b9f2041edcc5"
      },
      "execution_count": null,
      "outputs": [
        {
          "output_type": "stream",
          "name": "stdout",
          "text": [
            " 3/28  (本文已被刪除) [XDGEE]\n",
            " 3/28 https://www.ptt.cc//bbs/movie/M.1743092826.A.44B.html [新聞] 真人《馴龍高手》角色個人海報！「龍族」\n",
            " 3/28 https://www.ptt.cc//bbs/movie/M.1743093033.A.01D.html [新聞] 亞曼達塞佛瑞「害怕」而拒演出葛摩菈！\n",
            " 3/28 https://www.ptt.cc//bbs/movie/M.1743099431.A.EBC.html [公告] 水桶\n",
            " 3/28 https://www.ptt.cc//bbs/movie/M.1743107293.A.BB5.html [討論] 看完玩命關頭X 蜜亞的疑問\n",
            " 3/28 https://www.ptt.cc//bbs/movie/M.1743109813.A.C7B.html [情報] 8號出口 真人電影化 特報影片&演員公開\n",
            " 3/28 https://www.ptt.cc//bbs/movie/M.1743117136.A.61F.html [情報]  李奧納多《一戰再戰》正式預告\n",
            " 3/28 https://www.ptt.cc//bbs/movie/M.1743117468.A.0CF.html [情報] 陰陽眼見子 真人電影化 海報&預告公開\n",
            " 9/04 https://www.ptt.cc//bbs/movie/M.1630756788.A.1FE.html [公告] 電影板板規 2022/12/5\n",
            " 9/15 https://www.ptt.cc//bbs/movie/M.1694784041.A.89F.html [公告] 禁政治版規 及 投票結果\n",
            " 3/26 https://www.ptt.cc//bbs/movie/M.1743002006.A.058.html [討論] 漫威影業直播 復仇者聯盟5演員陣容公佈\n",
            " 3/26 https://www.ptt.cc//bbs/movie/M.1743003171.A.EE0.html [討論] 瑞秋曾格勒在空蕩蕩戲院看白雪公主\n",
            " 3/26 https://www.ptt.cc//bbs/movie/M.1743004735.A.F0E.html [新聞] 「唐老大」重拾導演老本行！馮迪索將為\n",
            " 3/27 https://www.ptt.cc//bbs/movie/M.1743006838.A.B7E.html [無雷]獵人兄弟 - 不該用手持攝影的三個理由\n",
            " 3/27 https://www.ptt.cc//bbs/movie/M.1743036301.A.C19.html Re: [討論] 任賢齊的演技怎麼都拉不起來？\n",
            " 3/27 https://www.ptt.cc//bbs/movie/M.1743036790.A.445.html [請益] 黑社會開頭張家輝吃的湯匙\n",
            " 3/27 https://www.ptt.cc//bbs/movie/M.1743041846.A.D45.html [討論] 麥塊電影給巨石強森演會怎樣？\n",
            " 3/27 https://www.ptt.cc//bbs/movie/M.1743052624.A.8DE.html [問片] 黑人父子\n",
            " 3/27 https://www.ptt.cc//bbs/movie/M.1743059854.A.872.html [好雷] 霍爾的移動城堡(親子電影推薦)\n",
            " 3/27 https://www.ptt.cc//bbs/movie/M.1743066698.A.DE5.html [  雷] 懼裂 \n",
            " 3/27 https://www.ptt.cc//bbs/movie/M.1743067932.A.27D.html [雷] 無雷心得 白雪公主\n",
            " 3/27 https://www.ptt.cc//bbs/movie/M.1743071385.A.CD0.html [討論] 夜魔俠跟蝙蝠俠打起來誰比較強？\n",
            " 3/27 https://www.ptt.cc//bbs/movie/M.1743071989.A.F5A.html [新聞] 於帝國大反擊為白卜庭皇帝配音的演員克\n",
            " 3/27 https://www.ptt.cc//bbs/movie/M.1743074638.A.A66.html [普雷]《獵人兄弟》獵場狩獵是遺產還是傷口？\n",
            " 3/27 https://www.ptt.cc//bbs/movie/M.1743080234.A.6EA.html [討論]【型男主廚三星夢：巴黎篇】台灣上國際版\n",
            " 3/27  (本文已被刪除) [XDGEE]\n",
            " 3/27 https://www.ptt.cc//bbs/movie/M.1743080863.A.717.html [新聞] 米高肯恩直呼馮迪索是「親兒子」！我孫子\n",
            " 3/27 https://www.ptt.cc//bbs/movie/M.1743080899.A.D68.html [新聞] 千黛亞化身傳奇搖滾歌手！《獅子王：木法\n",
            " 3/27 https://www.ptt.cc//bbs/movie/M.1743081217.A.0DE.html [新聞] 傳《不可能的任務8》製作成本堪比《阿凡\n",
            " 3/27 https://www.ptt.cc//bbs/movie/M.1743084933.A.62C.html Re: [超好雷] 特洛伊：木馬屠城\n",
            " 3/26 https://www.ptt.cc//bbs/movie/M.1742963551.A.564.html [討論] 任賢齊的演技怎麼都拉不起來？\n",
            " 3/26 https://www.ptt.cc//bbs/movie/M.1742967897.A.720.html [分享] 風之谷第四週特典海報\n",
            " 3/26 https://www.ptt.cc//bbs/movie/M.1742968618.A.7D5.html [新聞] 映画『Chao』人魚姫・山田杏奈、姫に求婚\n",
            " 3/26 https://www.ptt.cc//bbs/movie/M.1742971454.A.D1D.html [新聞] 《白雪公主》陷爭議風波 黃金時段影院座位\n",
            " 3/26 https://www.ptt.cc//bbs/movie/M.1742973082.A.1D0.html [討論] 「突變第三型」是一開始就打算拍前傳吧？\n",
            " 3/26 https://www.ptt.cc//bbs/movie/M.1742973322.A.78B.html [微雷] 東京牛仔很忙 觀後感\n",
            " 3/26 https://www.ptt.cc//bbs/movie/M.1742976275.A.59A.html [選片] 無痛先生 米奇17號 風之谷\n",
            " 3/26 https://www.ptt.cc//bbs/movie/M.1742977827.A.991.html [ 好雷]少年吔，安啦！ \n",
            " 3/26 https://www.ptt.cc//bbs/movie/M.1742985781.A.330.html [討論] 超粒方FB:看你能撐多久\n",
            " 3/26 https://www.ptt.cc//bbs/movie/M.1742989102.A.3B5.html [好雷] X檔案 - 征服未來 (1998) (真相嘸底家)\n",
            " 3/26 https://www.ptt.cc//bbs/movie/M.1742989688.A.63F.html [討論] 今年的哆啦A夢劇場板台灣有上嗎？\n",
            " 3/26 https://www.ptt.cc//bbs/movie/M.1742993522.A.136.html [討論] 送小海報的都是重映或爛片\n",
            " 3/26 https://www.ptt.cc//bbs/movie/M.1742996088.A.77D.html [新聞] 【GIVEN：去海邊】台灣領先海外最速上映\n",
            " 3/26 https://www.ptt.cc//bbs/movie/M.1742996333.A.E8C.html [新聞] 新《街頭霸王》取消上映 蜘蛛人宇宙也告\n",
            " 3/26  (本文已被刪除) [XDGEE]\n",
            " 3/26 https://www.ptt.cc//bbs/movie/M.1742998874.A.EF8.html [新聞] 真人「白雪公主」掀戰火！迪士尼為止血審\n",
            " 3/26 https://www.ptt.cc//bbs/movie/M.1742999001.A.8D3.html [新聞] 班艾佛列克不想再演英雄片！蝙蝠俠太黑暗\n",
            " 3/26 https://www.ptt.cc//bbs/movie/M.1743000469.A.AEC.html [心得雷]《道熙啊》：二元化世界中的二元化限制 \n",
            " 3/26 https://www.ptt.cc//bbs/movie/M.1743000691.A.4AD.html [討論] 白雪公主政確版怎麼改變比較好？？\n",
            " 3/26 https://www.ptt.cc//bbs/movie/M.1743001859.A.3BD.html [討論] 有人看了\"活命水特弓隊\"嗎?\n",
            " 3/25 https://www.ptt.cc//bbs/movie/M.1742882992.A.C16.html [請益] 月老 原著比電影好看很多嗎?\n",
            " 3/25 https://www.ptt.cc//bbs/movie/M.1742883654.A.D09.html [新聞] 星際寶貝選角太白爭議\n",
            " 3/25 https://www.ptt.cc//bbs/movie/M.1742885304.A.3BD.html [討論] 你最喜歡王家衛東邪西毒的哪個角色?\n",
            " 3/25 https://www.ptt.cc//bbs/movie/M.1742887173.A.C86.html [情報] 《迷宮裡的魔術師》9月日本上映\n",
            " 3/25 https://www.ptt.cc//bbs/movie/M.1742891185.A.B53.html Re: [超好雷] 特洛伊：木馬屠城\n",
            " 3/25 https://www.ptt.cc//bbs/movie/M.1742894887.A.C0A.html [討論] 向華強跟向佐誰演技強？\n",
            " 3/25 https://www.ptt.cc//bbs/movie/M.1742895223.A.0D0.html [好雷] 《你的顏色》—給聯覺者的出口\n",
            " 3/25 https://www.ptt.cc//bbs/movie/M.1742900208.A.FC2.html [討論] 下一個王祖賢在哪裡？\n",
            " 3/25 https://www.ptt.cc//bbs/movie/M.1742903695.A.7E3.html [新聞] 馬來西亞《白雪公主》撲街沒人看 《哪吒2\n",
            " 3/25 https://www.ptt.cc//bbs/movie/M.1742904445.A.D01.html [新聞] <型男主廚三星夢:巴黎篇>日韓男神飆演技\n",
            " 3/25 https://www.ptt.cc//bbs/movie/M.1742904914.A.EC9.html Re: [討論] 下一個王祖賢在哪裡？\n",
            " 3/25 https://www.ptt.cc//bbs/movie/M.1742905700.A.5C5.html [好雷] 電影《孤獨的美食家》 五郎尋湯大冒險\n",
            " 3/25 https://www.ptt.cc//bbs/movie/M.1742909639.A.C38.html [討論] 雙刀火雞對史蒂芬周的感情\n",
            " 3/25  (本文已被刪除) [pennyleo]\n",
            " 3/25 https://www.ptt.cc//bbs/movie/M.1742911119.A.980.html [討論] 瑞秋曾格勒公開臭自己的「沙贊2」沒人看\n",
            " 3/25 https://www.ptt.cc//bbs/movie/M.1742912168.A.FE2.html [好雷] 白雪公主：恐怖故事\n",
            " 3/25 https://www.ptt.cc//bbs/movie/M.1742916190.A.72E.html [情報] 絕命終結站：血脈 最新預告\n",
            " 3/26 https://www.ptt.cc//bbs/movie/M.1742921251.A.0C9.html [好無雷]  型男主廚三星夢 木村繼續走下神壇？\n",
            " 3/26  (本文已被刪除) [hshshshs]\n",
            " 3/26 https://www.ptt.cc//bbs/movie/M.1742962341.A.E81.html [情報]《進擊的巨人》艾連生日場-A3學校階級海報\n",
            " 3/24 https://www.ptt.cc//bbs/movie/M.1742826405.A.F9F.html [好慢雷]  Mikey 17\n",
            " 3/24 https://www.ptt.cc//bbs/movie/M.1742826519.A.D95.html [新聞] 大阪亞洲影展 「我家的事」4台灣演員同獲藥師真珠獎\n",
            " 3/24 https://www.ptt.cc//bbs/movie/M.1742828958.A.3FB.html Re: [討論] 白雪公主該給誰演\n",
            " 3/25  (本文已被刪除) [XDGEE]\n",
            " 3/25 https://www.ptt.cc//bbs/movie/M.1742833366.A.CD3.html [新聞] 新版《惡靈古堡》真人電影劇情曝光！主角\n",
            " 3/25 https://www.ptt.cc//bbs/movie/M.1742833522.A.5C4.html [新聞] 伊莉莎白歐森想扮「老年版」緋紅女巫！喊\n",
            " 3/25 https://www.ptt.cc//bbs/movie/M.1742836118.A.D8B.html [討論] 強納森梅傑斯「雜誌夢」爛番茄81%\n",
            " 3/25 https://www.ptt.cc//bbs/movie/M.1742838281.A.3D3.html [討論] 變形金剛 萬獸崛起 \n",
            " 3/25 https://www.ptt.cc//bbs/movie/M.1742848612.A.7D0.html [超好雷] 特洛伊：木馬屠城\n",
            " 3/25 https://www.ptt.cc//bbs/movie/M.1742861864.A.E08.html [討論] 伊麗莎白歐森說她不會演復5復6\n",
            " 3/25 https://www.ptt.cc//bbs/movie/M.1742868018.A.5A0.html [討論] 關於進電影院這回事\n",
            " 3/25 https://www.ptt.cc//bbs/movie/M.1742868930.A.2AC.html Re: [討論] 白雪公主該給誰演\n",
            " 3/25 https://www.ptt.cc//bbs/movie/M.1742869316.A.EC6.html [新聞] 全新重啟版《神鬼傳奇》正式開拍 \n",
            " 3/25 https://www.ptt.cc//bbs/movie/M.1742869431.A.FB6.html [新聞] 漫威MCU宇宙第七階段預計推出的四部電影\n",
            " 3/25 https://www.ptt.cc//bbs/movie/M.1742869791.A.110.html [請益] 給我一首琴的時間 預告裡的英文歌是?\n",
            " 3/25 https://www.ptt.cc//bbs/movie/M.1742869993.A.4A0.html Re: [討論] 變形金剛 萬獸崛起 \n",
            " 3/25 https://www.ptt.cc//bbs/movie/M.1742876834.A.2EF.html [討論] 迪士尼公主哪個算是成功真人化？\n",
            " 3/25  (票房文規範) <seguignol>\n",
            " 3/25 https://www.ptt.cc//bbs/movie/M.1742880200.A.5C0.html [片單] 賺災難財的電影\n",
            " 3/25 https://www.ptt.cc//bbs/movie/M.1742881665.A.04A.html [新聞] 剛獲奧斯卡最佳紀錄片獎 巴勒斯坦導演遇襲後遭以軍逮捕\n"
          ]
        }
      ]
    },
    {
      "cell_type": "code",
      "source": [
        "def get_articles(url):\n",
        "   response = requests.get(url)\n",
        "   soup = BeautifulSoup(response.text,'lxml')\n",
        "   for atcl in soup.find_all('div',class_='r-ent'):\n",
        "     if atcl.find('div',class_='title').a:\n",
        "      ttle = atcl.find('div',class_='title').a.text\n",
        "      href = 'https://www.ptt.cc/'+atcl.find('div',class_='title').a.get('href')\n",
        "     else:\n",
        "      ttle = atcl.find('div',class_='title').text.strip()\n",
        "      href = ''\n",
        "     date = atcl.find('div',class_='date').text\n",
        "     print(date,href,ttle)\n",
        "   url = 'https://www.ptt.cc/'+soup.find_all('a',class_='btn wide')[1].get('href')\n",
        "   return url\n",
        "url = 'https://www.ptt.cc/bbs/Food/index.html'\n",
        "for i in range(5):\n",
        "  url = get_articles(url)"
      ],
      "metadata": {
        "colab": {
          "base_uri": "https://localhost:8080/"
        },
        "id": "6C5LfoNKSCjT",
        "outputId": "14406eb4-09e9-4825-d1b0-3277ab8fb7d5"
      },
      "execution_count": null,
      "outputs": [
        {
          "output_type": "stream",
          "name": "stdout",
          "text": [
            " 3/25 https://www.ptt.cc//bbs/Food/M.1742910899.A.DFE.html [食記] 新竹 墨多 再訪\n",
            " 3/25 https://www.ptt.cc//bbs/Food/M.1742911175.A.7EF.html [食記] 日本 大阪 日本橋 なにわ新風 日本橋總本\n",
            " 3/25 https://www.ptt.cc//bbs/Food/M.1742911524.A.689.html [食記] 桃園平鎮區。天津小籠包（矮房子）\n",
            " 3/25 https://www.ptt.cc//bbs/Food/M.1742916544.A.1DE.html [食記] 台中 新天地崇德旗艦店-樂食自助百匯 \n",
            " 3/25 https://www.ptt.cc//bbs/Food/M.1742917338.A.192.html [食記] 基隆中正區-朴庶韓國烤肉 基隆北寧店\n",
            " 3/26 https://www.ptt.cc//bbs/Food/M.1742960584.A.F75.html [食記] 沖茶 台北信義 清香香蘭葉冰茶香蘭葉甜糕\n",
            " 3/26 https://www.ptt.cc//bbs/Food/M.1742969454.A.BA4.html [廣宣] 南港 LaLaport舒芙蕾鬆餅推-武蔵野森珈琲\n",
            " 3/26 https://www.ptt.cc//bbs/Food/M.1742975399.A.0C1.html [食記] 台南北區 賀呷肉燥飯虱目魚\n",
            " 3/26 https://www.ptt.cc//bbs/Food/M.1742976377.A.E18.html [食記] 高雄苓雅區 正義蚵仔麵線\n",
            " 3/26 https://www.ptt.cc//bbs/Food/M.1742983548.A.C75.html [食記] 台南學甲 順德土產牛肉湯\n",
            " 3/26 https://www.ptt.cc//bbs/Food/M.1742993240.A.533.html [食記] 新竹 三千金現做潤餅 ～遊走各市場間\n",
            " 3/26 https://www.ptt.cc//bbs/Food/M.1742996902.A.907.html [食記] 台中 ISOLA Dining & Bar\n",
            " 3/26 https://www.ptt.cc//bbs/Food/M.1743001873.A.D17.html [食記] 花蓮 強蛋餅 花蓮大東夜市 蛋餅好好吃\n",
            " 3/26 https://www.ptt.cc//bbs/Food/M.1743002256.A.A2A.html [食記] 花蓮玉里鎮不思閣米甜圈\n",
            " 3/27 https://www.ptt.cc//bbs/Food/M.1743040761.A.943.html [食記] 隣tonari拉麵 台北大安 濃郁豚骨魚介沾麵\n",
            " 3/27 https://www.ptt.cc//bbs/Food/M.1743055596.A.E75.html [食記] 內湖環山路上Le Mani 琢手咖啡 \n",
            " 3/27 https://www.ptt.cc//bbs/Food/M.1743063492.A.ACC.html [食記] 台北士林—忠義街蘿蔔絲餅｜傳承二代人氣銅板下午茶\n",
            " 3/27 https://www.ptt.cc//bbs/Food/M.1743084000.A.5DA.html [食記] 日本 長崎 雲龍亭 (銅座店)\n",
            " 3/27 https://www.ptt.cc//bbs/Food/M.1743084559.A.AD5.html [食記] 桃園。頭頓煎蝦餅\n",
            " 3/27 https://www.ptt.cc//bbs/Food/M.1743091195.A.FD4.html [食記] 日本福岡 水炊料亭 博多華味鳥 天神店\n",
            "12/16 https://www.ptt.cc//bbs/Food/M.1355673582.A.5F7.html [公告] Food板 板規 V3.91\n",
            " 9/28 https://www.ptt.cc//bbs/Food/M.1190944426.A.E6C.html [公告] 發文請在標題加上地區及提供地址電話。^^\n",
            "10/01 https://www.ptt.cc//bbs/Food/M.1128132666.A.0FD.html [公告] 文章被刪除者請洽精華區的資源回收桶\n",
            " 6/04 https://www.ptt.cc//bbs/Food/M.1496532469.A.C36.html [公告] 新增板規22：發文禁附延伸閱讀連結\n",
            " 3/23 https://www.ptt.cc//bbs/Food/M.1742690549.A.5A6.html [食記] 正宗岡山羊肉 新北土城 麻油炒羊肉羊雜湯\n",
            " 3/23 https://www.ptt.cc//bbs/Food/M.1742692135.A.5D5.html [食記] 竹北 日式板前無菜單料理，豪軒\n",
            " 3/23 https://www.ptt.cc//bbs/Food/M.1742695050.A.094.html [食記] 日本東京 HARBS澀谷櫻花舞台店\n",
            " 3/23 https://www.ptt.cc//bbs/Food/M.1742695486.A.EA9.html [食記] 泰國佛統府 After the Rain Coffee\n",
            " 3/23 https://www.ptt.cc//bbs/Food/M.1742702180.A.D4C.html [食記] 澳門。倫敦人酒店-Shake Shack漢堡\n",
            " 3/23 https://www.ptt.cc//bbs/Food/M.1742705372.A.6A7.html [食記] 斗南 榕苑古蹟餐飲\n",
            " 3/23 https://www.ptt.cc//bbs/Food/M.1742709100.A.1A8.html [食記] 東京新宿 AFURI 新宿ルミネ 柚子鹽味拉麵\n",
            " 3/23 https://www.ptt.cc//bbs/Food/M.1742735426.A.EB7.html [食記] 台中 飪室咖哩\n",
            " 3/23 https://www.ptt.cc//bbs/Food/M.1742739508.A.DB2.html [食記] 桃園蘆竹區。許家肉圓\n",
            " 3/23 https://www.ptt.cc//bbs/Food/M.1742739611.A.69C.html [食記] 日本 長崎 長崎車站 中華大八\n",
            " 3/24 https://www.ptt.cc//bbs/Food/M.1742752182.A.C6F.html [請益] 信義區下午就能喝酒吃小菜的地方\n",
            " 3/24 https://www.ptt.cc//bbs/Food/M.1742783430.A.F20.html [食記] 台南 阿龍香腸熟肉 老味道 阿舍菜\n",
            " 3/24 https://www.ptt.cc//bbs/Food/M.1742784937.A.425.html [食記] 昌明豆漿小籠包 新北新莊 香麻辣Q小籠包\n",
            " 3/24 https://www.ptt.cc//bbs/Food/M.1742799570.A.10F.html Fw: [食記] 東京 つばめグリル 多蜜醬紙包燉煮漢堡排\n",
            " 3/24 https://www.ptt.cc//bbs/Food/M.1742808041.A.0BE.html [食記] 桃園 平鎮 松源客家菜館\n",
            " 3/24 https://www.ptt.cc//bbs/Food/M.1742824448.A.FB6.html [食記] 台北 CHA CHA THÉ CUISINE采采食茶\n",
            " 3/24 https://www.ptt.cc//bbs/Food/M.1742829379.A.4FD.html [食記] 桃園 Mellowed Me 美若靡商行 美味甜點店\n",
            " 3/25 https://www.ptt.cc//bbs/Food/M.1742836224.A.B4E.html [食記] 台北 文山 老饒牛肉麵店\n",
            " 3/25 https://www.ptt.cc//bbs/Food/M.1742876273.A.906.html [食記] いづ重 日本京都 醋飯酸香風味淡雅箱壽司\n",
            " 3/25 https://www.ptt.cc//bbs/Food/M.1742908442.A.E76.html [食記] 台北 一甲子餐飲 米其林必比登\n",
            " 3/20 https://www.ptt.cc//bbs/Food/M.1742462141.A.778.html [食記] 台中 豐原廟東夜市懶人包，菱角酥/蒜肉飯\n",
            " 3/20 https://www.ptt.cc//bbs/Food/M.1742470166.A.BFE.html [食記] 台南東區 黑家麵館 好吃的涼皮 免費冷飲\n",
            " 3/20 https://www.ptt.cc//bbs/Food/M.1742473819.A.45C.html [食記] 彰化 與咖啡 本事空間設計獨棟美宅\n",
            " 3/20 https://www.ptt.cc//bbs/Food/M.1742473964.A.770.html [食記] 雪梨5間咖啡廳推薦：Single O, Campos \n",
            " 3/20 https://www.ptt.cc//bbs/Food/M.1742479629.A.D2D.html [食記] 基隆市信義區-麵匡匡拉麵食堂 基隆深溪店\n",
            " 3/20 https://www.ptt.cc//bbs/Food/M.1742479758.A.EDC.html [食記] 台北 TIPSY Sparrow\n",
            " 3/20 https://www.ptt.cc//bbs/Food/M.1742480837.A.CBF.html [食記] 桃園中壢區。清牛堂 專業清燉牛肉麵\n",
            " 3/20 https://www.ptt.cc//bbs/Food/M.1742482677.A.C33.html [食記] 羅東 悟饕 台式控肉飯包\n",
            " 3/21 https://www.ptt.cc//bbs/Food/M.1742491464.A.D55.html [食記] 台北 內湖 東引快刀手內湖店\n",
            " 3/21 https://www.ptt.cc//bbs/Food/M.1742515056.A.D30.html [食記] 桃園中壢-多樣和牛吃到飽-和牛涮\n",
            " 3/21 https://www.ptt.cc//bbs/Food/M.1742516450.A.B91.html [食記] 高雄.美濃-阿香的廚房\n",
            " 3/21 https://www.ptt.cc//bbs/Food/M.1742554795.A.AF1.html [食記] 三姐妹餐飲店 基隆仁愛 五味軟絲炸紅燒鰻\n",
            " 3/21 https://www.ptt.cc//bbs/Food/M.1742563372.A.B6B.html [食記] 日本 HARBS 午間套餐\n",
            " 3/21 https://www.ptt.cc//bbs/Food/M.1742566946.A.054.html [食記] 香港 天龍軒 (米其林二星)\n",
            " 3/22 https://www.ptt.cc//bbs/Food/M.1742576568.A.78E.html [食記] 台北 大安 詹記麻辣火鍋(敦南店)\n",
            " 3/22 https://www.ptt.cc//bbs/Food/M.1742608702.A.5D7.html [食記] 東京燒肉 蕃ebisu yoroniku  \n",
            " 3/22 https://www.ptt.cc//bbs/Food/M.1742631341.A.9C4.html [食記] 台中 中區｜敷酒串屋 FU JIU\n",
            " 3/22 https://www.ptt.cc//bbs/Food/M.1742635712.A.94F.html [食記] 桃園。法大炸雞\n",
            " 3/22 https://www.ptt.cc//bbs/Food/M.1742635962.A.A21.html [食記] 炸豬排檍 日本東京 香酥炸豬排搭伍斯特醬\n",
            " 3/22 https://www.ptt.cc//bbs/Food/M.1742655463.A.A04.html [食記] 東京六厘舍|車站地下街~大份量沾麵\n",
            " 3/18 https://www.ptt.cc//bbs/Food/M.1742306794.A.ED2.html [食記] 花蓮 花蓮香扁食 好吃的扁食店\n",
            " 3/18 https://www.ptt.cc//bbs/Food/M.1742308709.A.61A.html [食記] 桃園。中正路無名小吃（貨運小吃）\n",
            " 3/18 https://www.ptt.cc//bbs/Food/M.1742309424.A.1D6.html [食記] 西班牙馬德里 T4清茶達人 珍珠 仙草\n",
            " 3/19 https://www.ptt.cc//bbs/Food/M.1742350058.A.3D2.html [食記] 台中 北區 鮮魚鑫蝦仁飯\n",
            " 3/19  \n",
            " 3/19 https://www.ptt.cc//bbs/Food/M.1742357159.A.A19.html [食記] 熊本 磯丸水產 24小時海鮮燒烤、小火鍋\n",
            " 3/19 https://www.ptt.cc//bbs/Food/M.1742357912.A.DAA.html [食記] 東引 好列豆漿 品嚐特色在地口味的燒餅\n",
            " 3/19 https://www.ptt.cc//bbs/Food/M.1742369404.A.AD7.html [食記] 西門町走過一甲子的超人氣蜂大咖啡\n",
            " 3/19 https://www.ptt.cc//bbs/Food/M.1742379435.A.AF4.html Re: [食記] 台北 張家清真黃牛肉麵館\n",
            " 3/19 https://www.ptt.cc//bbs/Food/M.1742381965.A.9BF.html [食記] 台北 文山 木柵老爹鵝肉專賣店\n",
            " 3/19 https://www.ptt.cc//bbs/Food/M.1742385507.A.E9E.html [食記] 花蓮 液香扁食 最愛最強的花蓮扁食\n",
            " 3/19 https://www.ptt.cc//bbs/Food/M.1742387254.A.547.html [食記] 台北 士林區｜杺日式餐酒館\n",
            " 3/19 https://www.ptt.cc//bbs/Food/M.1742390218.A.200.html [食記] 台中 魚麗共同廚房\n",
            " 3/19 https://www.ptt.cc//bbs/Food/M.1742392470.A.838.html [食記] 蘇媽媽湯圓 台北大安 色彩繽紛綜合甜湯圓\n",
            " 3/19 https://www.ptt.cc//bbs/Food/M.1742395894.A.2E4.html [食記] 美國 北加人氣咖啡Verve Coffee Roasters\n",
            " 3/20 https://www.ptt.cc//bbs/Food/M.1742428245.A.34B.html [食記] 日本高千穗-雞肉好吃又特別-鶏の炭火焼 \n",
            " 3/20 https://www.ptt.cc//bbs/Food/M.1742434318.A.C20.html [廣宣] 新北 平價串燒19元起-柒息地串燒居酒屋\n",
            " 3/20 https://www.ptt.cc//bbs/Food/M.1742441653.A.14F.html [請益] 雙北適合家庭聚餐的餐廳(桌菜為主)\n",
            " 3/20 https://www.ptt.cc//bbs/Food/M.1742449689.A.536.html [食記] 台北中正 華山町餐酒館\n",
            " 3/20 https://www.ptt.cc//bbs/Food/M.1742460087.A.AAA.html [食記] 麵屋高倉二条 日本京都 豚骨魚介牛腸沾麵\n",
            " 3/15 https://www.ptt.cc//bbs/Food/M.1742017593.A.0F0.html [食記] 台中 大里區｜享千葉火鍋 大里店\n",
            " 3/15 https://www.ptt.cc//bbs/Food/M.1742040041.A.67D.html [食記] 台北 曾家豆漿 蛋塔\n",
            " 3/15 https://www.ptt.cc//bbs/Food/M.1742044010.A.74C.html [食記] 桃園中壢區。阿中炒羊肉\n",
            " 3/15 https://www.ptt.cc//bbs/Food/M.1742046323.A.D56.html [食記] 雪梨 8間超人氣Gelato店家心得\n",
            " 3/16 https://www.ptt.cc//bbs/Food/M.1742100651.A.A60.html [食記] 桃園 桃園區｜HOTPOT-BBQ\n",
            " 3/16 https://www.ptt.cc//bbs/Food/M.1742107165.A.BF2.html [食記] 好記食品 新北永和 香氣十足酥鬆松子桃酥\n",
            " 3/16 https://www.ptt.cc//bbs/Food/M.1742119496.A.15B.html [食記] 台北 稻舍食館\n",
            " 3/17 https://www.ptt.cc//bbs/Food/M.1742177266.A.A99.html [食記] 撈月麵館 新北新莊 干貝海鮮叻沙Q麵疙瘩\n",
            " 3/17 https://www.ptt.cc//bbs/Food/M.1742183334.A.B96.html [食記] 基隆仁愛市場 港仔味 超道地且格不貴港料\n",
            " 3/17 https://www.ptt.cc//bbs/Food/M.1742204392.A.633.html [心得] 漢來 島語自助餐 喝酒去\n",
            " 3/17 https://www.ptt.cc//bbs/Food/M.1742212021.A.C17.html [食記] 樂桃機上餐：東京ばな奈カレー \n",
            " 3/17 https://www.ptt.cc//bbs/Food/M.1742214001.A.845.html [食記] 花蓮 練黍叔燒番麥 烤玉米 棒棒\n",
            " 3/17 https://www.ptt.cc//bbs/Food/M.1742220200.A.037.html [食記] 香港 2 Sup\n",
            " 3/17 https://www.ptt.cc//bbs/Food/M.1742223139.A.13C.html [食記] 台北大安—大鼎豬血湯｜名人朝聖四十年豬血湯 沙茶夠味\n",
            " 3/18 https://www.ptt.cc//bbs/Food/M.1742280372.A.049.html [食記] 台北 中山 圓酒まるさけ居酒屋 MARUSAKE IZAKAYA\n",
            " 3/18 https://www.ptt.cc//bbs/Food/M.1742292127.A.5CC.html Fw: [食記] 新竹 曾家餡餅 豬肉/高麗菜/韭菜/紅豆\n",
            " 3/18 https://www.ptt.cc//bbs/Food/M.1742293610.A.20F.html [食記] 宜蘭 五吉小館\n",
            " 3/18 https://www.ptt.cc//bbs/Food/M.1742293961.A.584.html [食記] 虹屋mimi 日本靜岡 酸而開胃鰹魚香大阪燒\n",
            " 3/18 https://www.ptt.cc//bbs/Food/M.1742301960.A.958.html [食記] 甩鍋雞韓式炒雞吃到飽 台中中友店\n",
            " 3/18 https://www.ptt.cc//bbs/Food/M.1742306238.A.197.html [食記] 新竹 高宅 七訪\n"
          ]
        }
      ]
    },
    {
      "cell_type": "code",
      "source": [
        "def get_articles(url):\n",
        "  response = requests.get(url,cookies=cookies)\n",
        "  soup = BeautifulSoup(response.text,'lxml')\n",
        "  for atcl in soup.find_all('div',class_='r-ent'):\n",
        "   if atcl.find('div',class_='title').a:\n",
        "    ttle = atcl.find('div',class_='title').a.text\n",
        "    href = 'https://www.ptt.cc/' + atcl.find('div',class_='title').a.get('href')\n",
        "   else:\n",
        "    ttle = atcl.find('div',class_='title').text.strip()\n",
        "    href = ''\n",
        "   date = atcl.find('div',class_='date').text\n",
        "   print(date,href,ttle)\n",
        "  url = 'https://www.ptt.cc/' + soup.find_all('a',class_='btn wide')[1].get('href')\n",
        "  return url\n",
        "url = 'https://www.ptt.cc/bbs/Gossiping/index.html'\n",
        "cookies = {'over18':'1'}\n",
        "for i in range(5):\n",
        "  url = get_articles(url)\n"
      ],
      "metadata": {
        "id": "mAAN9Rj_BO-E",
        "colab": {
          "base_uri": "https://localhost:8080/"
        },
        "outputId": "bba1d19a-330a-4af6-8c09-a7b5a6cfffad"
      },
      "execution_count": null,
      "outputs": [
        {
          "output_type": "stream",
          "name": "stdout",
          "text": [
            " 3/28 https://www.ptt.cc//bbs/Gossiping/M.1743125431.A.824.html [問卦] 現在戒嚴結果只有兩種吧\n",
            " 3/28 https://www.ptt.cc//bbs/Gossiping/M.1743125455.A.573.html [新聞] 嗆議場內「釘孤枝」 柯建銘：韓國瑜你敢\n",
            " 3/28 https://www.ptt.cc//bbs/Gossiping/M.1743125504.A.2EF.html [問卦] 武器選拐杖能尻什麼大招\n",
            " 3/28 https://www.ptt.cc//bbs/Gossiping/M.1743125510.A.698.html Re: [新聞] 反川普！抵制美貨、外籍客拒遊美　\n",
            " 3/28 https://www.ptt.cc//bbs/Gossiping/M.1743125548.A.211.html Re: [問卦] 我與AI的對話:虛擬世界NPC & 佛法解脫(5)\n",
            " 3/28 https://www.ptt.cc//bbs/Gossiping/M.1743125551.A.300.html [問卦] 沒人發現逛西洽生活充滿幸福與未來嗎\n",
            " 3/28 https://www.ptt.cc//bbs/Gossiping/M.1743125558.A.26F.html [問卦] 這隨機在哪？\n",
            " 3/28 https://www.ptt.cc//bbs/Gossiping/M.1743125603.A.8AE.html [問卦] 亞亞身份曝光，震驚網友\n",
            " 3/28 https://www.ptt.cc//bbs/Gossiping/M.1743125631.A.1E5.html [新聞] 黃子佼辯稱紓壓 呂秋遠：1情況可判刑數千\n",
            " 3/28 https://www.ptt.cc//bbs/Gossiping/M.1743125746.A.0C1.html [問卦] 企鵝妹夏威夷徒步環島中!\n",
            " 3/28 https://www.ptt.cc//bbs/Gossiping/M.1743125754.A.D4F.html [問卦] 股票賠好多錢 要繼續凹嗎??\n",
            " 3/28 https://www.ptt.cc//bbs/Gossiping/M.1743125759.A.C2B.html Re: [問卦] 吸毒在法律上有罪刑的根本是甚麼?\n",
            " 3/28 https://www.ptt.cc//bbs/Gossiping/M.1743125781.A.3A8.html [問卦] 韓國的霸凌比較嚴重還是日本?\n",
            " 3/28 https://www.ptt.cc//bbs/Gossiping/M.1743125877.A.E85.html [問卦] 又有未成年少女被性侵！？\n",
            " 3/28 https://www.ptt.cc//bbs/Gossiping/M.1743125927.A.702.html [問卦] 包莖男中最噁的是哪幾位 O_o\n",
            "11/02 https://www.ptt.cc//bbs/Gossiping/M.1730554547.A.41C.html Fw: [公告] 請留意新註冊帳號使用信件詐騙\n",
            " 1/21 https://www.ptt.cc//bbs/Gossiping/M.1737398137.A.644.html [公告] 八卦板板規(2025.01.21)\n",
            " 2/20 https://www.ptt.cc//bbs/Gossiping/M.1740024219.A.1EB.html [公告]  春季大反攻！！八卦板主徵選報名開始捏\n",
            " 3/12 https://www.ptt.cc//bbs/Gossiping/M.1741791500.A.EB6.html Fw: [公告] 請避免與登入1次之帳號進行交易 發錢\n",
            " 3/28 https://www.ptt.cc//bbs/Gossiping/M.1743124685.A.686.html [問卦] 返校2要怎麼拍\n",
            " 3/28 https://www.ptt.cc//bbs/Gossiping/M.1743124687.A.BD9.html [問卦] 一大早公司廁所就暴動了？\n",
            " 3/28 https://www.ptt.cc//bbs/Gossiping/M.1743124797.A.FBB.html [問卦] 台積電要搬去美國後台股創今年新低\n",
            " 3/28 https://www.ptt.cc//bbs/Gossiping/M.1743124820.A.B59.html [問卦] 狂用免費DeepSeek才能抗中保台吧？\n",
            " 3/28 https://www.ptt.cc//bbs/Gossiping/M.1743124883.A.011.html [問卦] 大谷炸裂\n",
            " 3/28 https://www.ptt.cc//bbs/Gossiping/M.1743124889.A.208.html Re: [問卦] 現在戒嚴跟民主不衝突了？\n",
            " 3/28 https://www.ptt.cc//bbs/Gossiping/M.1743124959.A.F6F.html [問卦] 你各位多久沒看過美女起秋的樣子？\n",
            " 3/28 https://www.ptt.cc//bbs/Gossiping/M.1743125005.A.CC6.html [問卦] 偽娘 狂甲 人妖 誰比較不噁O_o\n",
            " 3/28 https://www.ptt.cc//bbs/Gossiping/M.1743125018.A.EF9.html [爆卦] 日本人解開122年未解的杜德尼切割問題\n",
            " 3/28 https://www.ptt.cc//bbs/Gossiping/M.1743125057.A.ADD.html [新聞] 反川普！抵制美貨、外籍客拒遊美　\n",
            " 3/28 https://www.ptt.cc//bbs/Gossiping/M.1743125174.A.DE4.html [問卦] 認真問為什麼抹黃在台灣沒什麼用\n",
            " 3/28 https://www.ptt.cc//bbs/Gossiping/M.1743125181.A.4A6.html [問卦] 在便利商店拿熱狗掉地上怎麼辦\n",
            " 3/28 https://www.ptt.cc//bbs/Gossiping/M.1743125202.A.6B3.html [新聞] 快訊／竹聯幫慘了！士林警強勢掃蕩3堂口\n",
            " 3/28 https://www.ptt.cc//bbs/Gossiping/M.1743125216.A.D2C.html [新聞] 清泉崗綠能弊案！勾結黑道…軍士官接受\n",
            " 3/28 https://www.ptt.cc//bbs/Gossiping/M.1743125228.A.0E6.html [問卦] 台灣的和平，長什麼樣子？\n",
            " 3/28 https://www.ptt.cc//bbs/Gossiping/M.1743125293.A.A08.html [問卦] 台股沒救了嗎\n",
            " 3/28 https://www.ptt.cc//bbs/Gossiping/M.1743125308.A.883.html [新聞] 「反綠就被追殺」陳揮文嘆75學者悲哀：只\n",
            " 3/28 https://www.ptt.cc//bbs/Gossiping/M.1743125341.A.5A2.html [問卦] 先驅出現後類似產品就如雨後春筍出現？\n",
            " 3/28 https://www.ptt.cc//bbs/Gossiping/M.1743125399.A.BC6.html [問卦] 選一個現在的「國師」，大家會選誰？\n",
            " 3/28 https://www.ptt.cc//bbs/Gossiping/M.1743125423.A.90D.html [問卦] 為什麼阿Q、來一客沒有出袋裝的？\n",
            " 3/28 https://www.ptt.cc//bbs/Gossiping/M.1743124033.A.313.html [新聞] 要求15歲男童口交後再用玻璃棒塞肛門 淫\n",
            " 3/28 https://www.ptt.cc//bbs/Gossiping/M.1743124040.A.8FD.html Re: [問卦] 怎麼都沒想到派AI上戰場啊？\n",
            " 3/28 https://www.ptt.cc//bbs/Gossiping/M.1743124051.A.C12.html [問卦] 跨性別為什麼不乖乖待在家裡就好了\n",
            " 3/28 https://www.ptt.cc//bbs/Gossiping/M.1743124090.A.0CA.html [問卦] 老人都不怕漲電價？\n",
            " 3/28 https://www.ptt.cc//bbs/Gossiping/M.1743124092.A.845.html [問卦] 台股怎麼了？？\n",
            " 3/28 https://www.ptt.cc//bbs/Gossiping/M.1743124127.A.DC1.html [問卦] 股票跌成這樣,送台積電換到什麼?\n",
            " 3/28 https://www.ptt.cc//bbs/Gossiping/M.1743124143.A.314.html [問卦] 念到精誠中學大概是台北哪所高中？\n",
            " 3/28 https://www.ptt.cc//bbs/Gossiping/M.1743124148.A.7FA.html [問卦] 劉德華永遠笑臉迎人\n",
            " 3/28 https://www.ptt.cc//bbs/Gossiping/M.1743124176.A.BAB.html Re: [問卦] 抹紅這種低能手法還要玩多久\n",
            " 3/28 https://www.ptt.cc//bbs/Gossiping/M.1743124225.A.A29.html Re: [問卦] 抹紅這種低能手法還要玩多久\n",
            " 3/28 https://www.ptt.cc//bbs/Gossiping/M.1743124241.A.926.html [問卦] 南部同事：101是模仿85大樓\n",
            " 3/28 https://www.ptt.cc//bbs/Gossiping/M.1743124243.A.0E8.html [問卦] 金城武是阿北了吧，有年輕人喜歡？\n",
            " 3/28 https://www.ptt.cc//bbs/Gossiping/M.1743124266.A.33D.html [問卦] 我這樣是不是長痔瘡QQ\n",
            " 3/28 https://www.ptt.cc//bbs/Gossiping/M.1743124378.A.171.html [問卦] 台灣該放棄半導體轉向魔導研究吧\n",
            " 3/28 https://www.ptt.cc//bbs/Gossiping/M.1743124380.A.216.html [新聞] 恩師謝炎堯憂柯文哲死在監獄　昔學生力\n",
            " 3/28 https://www.ptt.cc//bbs/Gossiping/M.1743124389.A.F0F.html [問卦] 如果戒嚴台灣人會上街頭嗎?\n",
            " 3/28 https://www.ptt.cc//bbs/Gossiping/M.1743124397.A.158.html [問卦] 台股被誰提款了？\n",
            " 3/28 https://www.ptt.cc//bbs/Gossiping/M.1743124472.A.327.html Re: [問卦] 抹紅這種低能手法還要玩多久\n",
            " 3/28 https://www.ptt.cc//bbs/Gossiping/M.1743124570.A.058.html [問卦] 共產黨那一套才是統治真理吧？\n",
            " 3/28 https://www.ptt.cc//bbs/Gossiping/M.1743124661.A.51C.html [問卦] 自助加熱超商 常看到微波爐爆汁\n",
            " 3/28 https://www.ptt.cc//bbs/Gossiping/M.1743123176.A.FE8.html Re: [問卦] 馬斯克開源7579美金買房\n",
            " 3/28 https://www.ptt.cc//bbs/Gossiping/M.1743123177.A.BBA.html Re: [新聞]童子賢：電力攸關國家前途 若反核全民將付\n",
            " 3/28  (本文已被刪除) [backham7624]\n",
            " 3/28 https://www.ptt.cc//bbs/Gossiping/M.1743123207.A.3EB.html Re: [新聞] 校園寒蟬效應…教團：以前什麼都可談\n",
            " 3/28 https://www.ptt.cc//bbs/Gossiping/M.1743123266.A.BEE.html [新聞] 台灣「1遊樂園」虧好幾年！背後最強靠山\n",
            " 3/28 https://www.ptt.cc//bbs/Gossiping/M.1743123297.A.FE7.html [問卦] 有人開始看中華人民共和國的民刑法了？\n",
            " 3/28 https://www.ptt.cc//bbs/Gossiping/M.1743123309.A.C9F.html [問卦] 還有誰想住台中？\n",
            " 3/28 https://www.ptt.cc//bbs/Gossiping/M.1743123349.A.8C2.html [問卦] 為啥台灣啦啦隊女生度量那麼大?\n",
            " 3/28 https://www.ptt.cc//bbs/Gossiping/M.1743123451.A.B23.html Re: [問卦] 為啥台灣啦啦隊女生度量那麼大?\n",
            " 3/28 https://www.ptt.cc//bbs/Gossiping/M.1743123465.A.C1E.html Re: [新聞] 「統戰是統一戰線」陳玉珍新解讀：台灣\n",
            " 3/28 https://www.ptt.cc//bbs/Gossiping/M.1743123523.A.8FD.html Re: [問卦] 抹紅這種低能手法還要玩多久\n",
            " 3/28 https://www.ptt.cc//bbs/Gossiping/M.1743123527.A.CB1.html [問卦] 裏海內有軍隊嗎\n",
            " 3/28 https://www.ptt.cc//bbs/Gossiping/M.1743123573.A.285.html [問卦] 一定要熱戰才會戒嚴，對吧？...對吧？\n",
            " 3/28 https://www.ptt.cc//bbs/Gossiping/M.1743123636.A.1F4.html [問卦] 為什麼人不能像AI一樣犯錯就修正\n",
            " 3/28 https://www.ptt.cc//bbs/Gossiping/M.1743123703.A.82E.html [新聞] 傅崐萁撂話「全武行是選項」柯建銘：膽\n",
            " 3/28 https://www.ptt.cc//bbs/Gossiping/M.1743123785.A.598.html [問卦] 早上來公司大便半小時\n",
            " 3/28 https://www.ptt.cc//bbs/Gossiping/M.1743123822.A.0CE.html [問卦] 台灣正在從已開發變成開發中地區？\n",
            " 3/28 https://www.ptt.cc//bbs/Gossiping/M.1743123857.A.753.html Re: [問卦] 現在不能…反對戒嚴？\n",
            " 3/28 https://www.ptt.cc//bbs/Gossiping/M.1743123959.A.EAA.html Re: [新聞] 陳佩琪哭求「柯文哲出來就醫」　吳靜怡曝\n",
            " 3/28 https://www.ptt.cc//bbs/Gossiping/M.1743123970.A.211.html Re: [問卦] 美國人會後悔選個瘋子出來嗎\n",
            " 3/28 https://www.ptt.cc//bbs/Gossiping/M.1743122272.A.920.html [新聞] 報復美國關稅 加拿大拿特斯拉開刀\n",
            " 3/28  (本文已被刪除) [HisVol]\n",
            " 3/28 https://www.ptt.cc//bbs/Gossiping/M.1743122333.A.3CE.html [問卦] 為什麼台男穿大衣看起來超像變態暴露狂?\n",
            " 3/28 https://www.ptt.cc//bbs/Gossiping/M.1743122356.A.7EA.html Re: [問卦] 抹紅這種低能手法還要玩多久\n",
            " 3/28 https://www.ptt.cc//bbs/Gossiping/M.1743122438.A.2F5.html Re: [問卦] 為什麼南部學校一直合併都沒看到北部學\n",
            " 3/28 https://www.ptt.cc//bbs/Gossiping/M.1743122507.A.C64.html [問卦] 不是還有白色恐怖二二八可以談嗎？\n",
            " 3/28 https://www.ptt.cc//bbs/Gossiping/M.1743122610.A.C20.html [問卦] 怎麼都沒想到派AI上戰場啊？\n",
            " 3/28 https://www.ptt.cc//bbs/Gossiping/M.1743122645.A.AD2.html [新聞]高雄大寮區巷弄爆土地糾紛 地主用水泥樁封\n",
            " 3/28 https://www.ptt.cc//bbs/Gossiping/M.1743122654.A.58E.html Re: [新聞] 北一女師區桂芝登央視罵賴清德　校友苗博\n",
            " 3/28 https://www.ptt.cc//bbs/Gossiping/M.1743122713.A.B3B.html [問卦] 我獨 沒有台灣獵人嗎...？\n",
            " 3/28 https://www.ptt.cc//bbs/Gossiping/M.1743122719.A.22E.html Re: [新聞] 傳白狼下午宣告竹聯新幫主　警政署長：\n",
            " 3/28 https://www.ptt.cc//bbs/Gossiping/M.1743122724.A.83D.html Re: [問卦] 抹紅這種低能手法還要玩多久\n",
            " 3/28 https://www.ptt.cc//bbs/Gossiping/M.1743122726.A.EB3.html [問卦] 慟！金城武是muji中國代言人\n",
            " 3/28 https://www.ptt.cc//bbs/Gossiping/M.1743122740.A.2D7.html Re: [問卦] 抹紅這種低能手法還要玩多久\n",
            " 3/28 https://www.ptt.cc//bbs/Gossiping/M.1743122807.A.BF4.html [問卦] 穿黑絲真的可以保暖嗎？\n",
            " 3/28 https://www.ptt.cc//bbs/Gossiping/M.1743122831.A.740.html Re: [新聞] 校園寒蟬效應…教團：以前什麼都可談 現\n",
            " 3/28 https://www.ptt.cc//bbs/Gossiping/M.1743122928.A.F12.html [問卦] 所以普通門診不能開針劑或點滴床嗎\n",
            " 3/28 https://www.ptt.cc//bbs/Gossiping/M.1743123052.A.125.html [新聞] 賴士葆撞行人影像外流 交通分隊警員外洩\n",
            " 3/28 https://www.ptt.cc//bbs/Gossiping/M.1743123055.A.DF3.html [問卦] 華郵：川普可能消減8-50%聯邦政府員額\n",
            " 3/28 https://www.ptt.cc//bbs/Gossiping/M.1743123169.A.880.html [問卦] 罷團如果被台大醫院拒絕會抵制嗎？\n"
          ]
        }
      ]
    },
    {
      "cell_type": "code",
      "source": [],
      "metadata": {
        "id": "syUMx3_vErLF"
      },
      "execution_count": null,
      "outputs": []
    },
    {
      "cell_type": "code",
      "source": [],
      "metadata": {
        "id": "bDn3GW7IENY_"
      },
      "execution_count": null,
      "outputs": []
    }
  ]
}