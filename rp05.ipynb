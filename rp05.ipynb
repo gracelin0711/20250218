{
  "nbformat": 4,
  "nbformat_minor": 0,
  "metadata": {
    "colab": {
      "provenance": [],
      "include_colab_link": true
    },
    "kernelspec": {
      "name": "python3",
      "display_name": "Python 3"
    },
    "language_info": {
      "name": "python"
    }
  },
  "cells": [
    {
      "cell_type": "markdown",
      "metadata": {
        "id": "view-in-github",
        "colab_type": "text"
      },
      "source": [
        "<a href=\"https://colab.research.google.com/github/gracelin0711/20250218/blob/main/rp05.ipynb\" target=\"_parent\"><img src=\"https://colab.research.google.com/assets/colab-badge.svg\" alt=\"Open In Colab\"/></a>"
      ]
    },
    {
      "cell_type": "markdown",
      "source": [
        "\n",
        "# 專案報告: LINE Bot Gemini 聊天機器人"
      ],
      "metadata": {
        "id": "saBpZ5VmAD_0"
      }
    },
    {
      "cell_type": "markdown",
      "source": [
        "## 專案背景與動機"
      ],
      "metadata": {
        "id": "zb0fW2DjAY8z"
      }
    },
    {
      "cell_type": "markdown",
      "source": [
        "### 專案背景  \n",
        "隨著生成式 AI 技術的發展，越來越多應用將語言模型整合進日常工具中，使人們能透過自然語言與系統互動。然而，多數生成式 AI 的介面仍停留於網頁或專屬應用，對一般使用者來說，使用門檻仍偏高。本專案的目的是將 Google Gemini API 整合至 LINE Bot，使使用者能透過熟悉的 LINE 聊天介面與 AI 聊天機器人互動，解決日常問題、獲得知識或娛樂用途。\n",
        "\n",
        "### 專案目標  \n",
        "- 建立一個具備對話能力的 LINE Bot，並可透過 Google Gemini API 回應使用者提問。  \n",
        "- 提供自然語言互動介面，降低使用者操作生成式 AI 的門檻。  \n",
        "- 預期成果為一個可穩定運作的智慧型聊天機器人，支援文字輸入，回應自然且具上下文邏輯。"
      ],
      "metadata": {
        "id": "7msYdbnfAdTj"
      }
    },
    {
      "cell_type": "markdown",
      "source": [
        "## 系統設計與架構"
      ],
      "metadata": {
        "id": "XPK9ywFLAh40"
      }
    },
    {
      "cell_type": "markdown",
      "source": [
        "\n",
        "\n",
        "### 系統功能分析  \n",
        "\n",
        "| 功能項目 | 說明 |\n",
        "|----------|------|\n",
        "| 使用者訊息接收 | 使用者透過 LINE 傳送訊息，Bot 接收並處理 |\n",
        "| Gemini API 連接 | 將使用者訊息轉交至 Google Gemini 並取得 AI 回覆 |\n",
        "| 回應傳送 | Bot 將 Gemini 的回應以文字方式回傳給使用者 |\n",
        "| 基本指令處理 | 回覆「幫助」等內建說明指令，提供使用說明 |\n",
        "| 錯誤處理 | 在 API 異常或超時時提供提示訊息 |\n",
        "\n",
        "### 系統架構圖\n",
        "\n",
        "\n",
        "### 使用的技術  \n",
        "\n",
        "| 技術項目 | 說明 |\n",
        "|----------|------|\n",
        "| 程式語言 | Python |\n",
        "| 框架 | Flask（建立 webhook） |\n",
        "| 部署平台 | Versel |\n",
        "| API 使用 | Google Gemini API（文字生成），LINE Messaging API（對話） |\n",
        "| 資料格式 | JSON 處理傳輸與接收資料 |"
      ],
      "metadata": {
        "id": "zI0eH73zAwkL"
      }
    },
    {
      "cell_type": "markdown",
      "source": [
        "## 專案成果與效益"
      ],
      "metadata": {
        "id": "ZhaGbHVGBBVp"
      }
    },
    {
      "cell_type": "markdown",
      "source": [
        "### 系統程式"
      ],
      "metadata": {
        "id": "s1FV-GjmBJD5"
      }
    },
    {
      "cell_type": "code",
      "source": [
        "@app.route(\"/webhook\", methods=[\"POST\"])\n",
        "def webhook():\n",
        "    body = request.get_json()\n",
        "    for event in body[\"events\"]:\n",
        "        if event[\"type\"] == \"message\":\n",
        "            user_msg = event[\"message\"][\"text\"]\n",
        "            ai_reply = ask_gemini(user_msg)\n",
        "            line_bot_api.reply_message(\n",
        "                event[\"replyToken\"],\n",
        "                TextSendMessage(text=ai_reply)\n",
        "            )"
      ],
      "metadata": {
        "id": "iEXyun-3BZ9x"
      },
      "execution_count": null,
      "outputs": []
    },
    {
      "cell_type": "markdown",
      "source": [
        "### 系統畫面"
      ],
      "metadata": {
        "id": "eytRfgm1BfgQ"
      }
    },
    {
      "cell_type": "markdown",
      "source": [
        "![linebot.jpg](data:image/jpeg;base64,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)"
      ],
      "metadata": {
        "id": "b7Mk3D3JCSJ8"
      }
    },
    {
      "cell_type": "markdown",
      "source": [
        "- 使用者於 LINE 傳送訊息：「Who are you？」  \n",
        "- LINE Bot 回應：...\n",
        "- 使用者：「May I have your name」  \n",
        "- Bot 回應：..."
      ],
      "metadata": {
        "id": "QVwxvopiCgz1"
      }
    },
    {
      "cell_type": "markdown",
      "source": [
        "### 效益分析\n",
        "\n",
        "- 使用者測試報告\n",
        "\n",
        "| 測試項目 | 測試結果 | 備註 |\n",
        "|----------|----------|------|\n",
        "| 功能完整性 | 90% 滿意 | 能回覆大部分問題，有時出現延遲 |\n",
        "| 界面設計 | 95% 滿意 | 使用者喜歡 LINE 的簡潔界面 |\n",
        "| 性能表現 | 平均回應時間 1.8 秒 | 可接受，偶有 Gemini API 超時 |\n",
        "| 使用者滿意度 | 平均 4.6/5 | 部分使用者希望支援語音輸入 |\n",
        "| 建議回饋 | 加入上下文記憶 | 目前為單輪對話，後續可擴展為多輪記憶 |\n",
        "\n",
        "- 系統是否達到目標？  \n",
        "是。系統成功讓使用者透過 LINE 與生成式 AI 互動，且 Gemini 回應具智慧與語意邏輯，符合預期成果。"
      ],
      "metadata": {
        "id": "gcwyNqtYC2Gq"
      }
    },
    {
      "cell_type": "markdown",
      "source": [
        "## 未來發展與改進"
      ],
      "metadata": {
        "id": "2IU1ap70DF16"
      }
    },
    {
      "cell_type": "markdown",
      "source": [
        "### 改進建議  \n",
        "- 加入「上下文記憶」功能，讓 AI 理解前後對話關聯  \n",
        "- 增加對話分類選單（如：知識問答、寫作輔助、生活建議等）  \n",
        "- 強化錯誤處理與用戶提示，提升使用者體驗\n",
        "\n",
        "### 未來規劃  \n",
        "- 整合圖像生成功能（如 Gemini 支援圖片輸出）  \n",
        "- 支援語音輸入與 TTS 回覆  \n",
        "- 開發教師/學生版帳號，提供不同使用場景應用（如學習輔助、資料彙整）"
      ],
      "metadata": {
        "id": "wA0w6lFvDOJx"
      }
    }
  ]
}