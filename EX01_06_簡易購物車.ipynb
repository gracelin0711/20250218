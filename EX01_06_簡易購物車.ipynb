{
  "nbformat": 4,
  "nbformat_minor": 0,
  "metadata": {
    "colab": {
      "provenance": [],
      "authorship_tag": "ABX9TyPdXFloaFDqIxiRP6dKuyVn",
      "include_colab_link": true
    },
    "kernelspec": {
      "name": "python3",
      "display_name": "Python 3"
    },
    "language_info": {
      "name": "python"
    }
  },
  "cells": [
    {
      "cell_type": "markdown",
      "metadata": {
        "id": "view-in-github",
        "colab_type": "text"
      },
      "source": [
        "<a href=\"https://colab.research.google.com/github/gracelin0711/20250218/blob/main/EX01_06_%E7%B0%A1%E6%98%93%E8%B3%BC%E7%89%A9%E8%BB%8A.ipynb\" target=\"_parent\"><img src=\"https://colab.research.google.com/assets/colab-badge.svg\" alt=\"Open In Colab\"/></a>"
      ]
    },
    {
      "cell_type": "code",
      "execution_count": 6,
      "metadata": {
        "colab": {
          "base_uri": "https://localhost:8080/"
        },
        "id": "XYd3RV4cNJlk",
        "outputId": "abd9baab-ea8c-48da-a49c-16b2e75f97c2"
      },
      "outputs": [
        {
          "output_type": "stream",
          "name": "stdout",
          "text": [
            "商品欄 apple/25,bababa/12,cherry/30\n",
            "購物車 \n",
            "購物車 1.新增商品 2.刪除商品 3.結帳 4.離開\n",
            "3\n",
            "結帳金額為0\n"
          ]
        }
      ],
      "source": [
        "from IPython.display import clear_output\n",
        "shopping_cart = []\n",
        "product = {\"apple\":25,\"bababa\":12,\"cherry\":30}\n",
        "while True:\n",
        "    clear_output()\n",
        "    print('商品欄',','.join([f'{pd}/{pr}' for pd,pr in product.items()]))\n",
        "    print('購物車',','.join(shopping_cart))\n",
        "    print('購物車','1.新增商品','2.刪除商品','3.結帳','4.離開')\n",
        "    act = input()\n",
        "    if act == '1':\n",
        "      act[1:]\n",
        "      shopping_cart.append( act[1:])\n",
        "    elif act[0]=='2':\n",
        "      shopping_cart.append( act[1:])\n",
        "    elif act[0]=='3':\n",
        "      tt = 0\n",
        "      for pd in shopping_cart:\n",
        "        tt += product[pd]\n",
        "      print(f'結帳金額為{tt}')\n",
        "    else:\n",
        "      print('bye')\n",
        "    break"
      ]
    },
    {
      "cell_type": "code",
      "source": [],
      "metadata": {
        "id": "q8qCQzAYSGfg"
      },
      "execution_count": null,
      "outputs": []
    }
  ]
}