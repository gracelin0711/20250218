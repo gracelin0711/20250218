{
  "nbformat": 4,
  "nbformat_minor": 0,
  "metadata": {
    "colab": {
      "provenance": [],
      "authorship_tag": "ABX9TyMk/4rK5gAmMineR8E+uTgQ",
      "include_colab_link": true
    },
    "kernelspec": {
      "name": "python3",
      "display_name": "Python 3"
    },
    "language_info": {
      "name": "python"
    }
  },
  "cells": [
    {
      "cell_type": "markdown",
      "metadata": {
        "id": "view-in-github",
        "colab_type": "text"
      },
      "source": [
        "<a href=\"https://colab.research.google.com/github/gracelin0711/20250218/blob/main/EX01_03Rock_paper_scissors.ipynb\" target=\"_parent\"><img src=\"https://colab.research.google.com/assets/colab-badge.svg\" alt=\"Open In Colab\"/></a>"
      ]
    },
    {
      "cell_type": "code",
      "execution_count": null,
      "metadata": {
        "colab": {
          "base_uri": "https://localhost:8080/"
        },
        "id": "jwXZAHm0Rzcg",
        "outputId": "8d9880ce-4970-4185-c4f7-37e6d2db3e83"
      },
      "outputs": [
        {
          "output_type": "stream",
          "name": "stdout",
          "text": [
            "請輸入0或2或55\n",
            "computer: 0\n",
            "你贏了\n"
          ]
        }
      ],
      "source": [
        "#輸入025\n",
        "ply = int(input(\"請輸入0或2或5\"))\n",
        "#取得電腦隨機出拳\n",
        "import random\n",
        "cmp = random.choice([0,2,5])\n",
        "print('computer:',cmp)\n",
        "#輸出結果\n",
        "if ply == cmp:\n",
        "    print('平手')\n",
        "elif (ply == 0 and cmp ==2) or (ply == 2 and cmp ==5) or (ply == 5 and cmp ==0) :\n",
        "    print('你贏了')\n",
        "else:\n",
        "    print('你輸了')"
      ]
    }
  ]
}