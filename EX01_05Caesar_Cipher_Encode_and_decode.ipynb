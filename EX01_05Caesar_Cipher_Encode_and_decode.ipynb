{
  "nbformat": 4,
  "nbformat_minor": 0,
  "metadata": {
    "colab": {
      "provenance": [],
      "authorship_tag": "ABX9TyMRKrPvRP/WPcV1ZrDnfDHQ",
      "include_colab_link": true
    },
    "kernelspec": {
      "name": "python3",
      "display_name": "Python 3"
    },
    "language_info": {
      "name": "python"
    }
  },
  "cells": [
    {
      "cell_type": "markdown",
      "metadata": {
        "id": "view-in-github",
        "colab_type": "text"
      },
      "source": [
        "<a href=\"https://colab.research.google.com/github/gracelin0711/20250218/blob/main/EX01_05Caesar_Cipher_Encode_and_decode.ipynb\" target=\"_parent\"><img src=\"https://colab.research.google.com/assets/colab-badge.svg\" alt=\"Open In Colab\"/></a>"
      ]
    },
    {
      "cell_type": "code",
      "execution_count": 2,
      "metadata": {
        "colab": {
          "base_uri": "https://localhost:8080/"
        },
        "id": "G5IVzJy4B9zy",
        "outputId": "acbc9572-e21b-4e43-9607-b0ebbc87b675"
      },
      "outputs": [
        {
          "output_type": "stream",
          "name": "stdout",
          "text": [
            "d8\n",
            "pmttw\n",
            "hello\n"
          ]
        }
      ],
      "source": [
        "#凱薩密碼解密器\n",
        "#輸入加解密及金鑰\n",
        "act = input()\n",
        "txt = input()\n",
        "\n",
        "act_type = act[0]\n",
        "key = int(act[1:])\n",
        "ntxt = ''\n",
        "if act_type == 'd':\n",
        "  for c in txt:\n",
        "    nc = ord(c) - key\n",
        "    ntxt = ntxt + chr(nc)\n",
        "else:\n",
        "  for c in txt:\n",
        "    nc = ord(c) + key\n",
        "    ntxt = ntxt + chr(nc)\n",
        "#輸入要加解密的文字及金鑰\n",
        "#輸出加密後或解密文字\n",
        "print(ntxt)"
      ]
    }
  ]
}