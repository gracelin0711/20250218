{
  "nbformat": 4,
  "nbformat_minor": 0,
  "metadata": {
    "colab": {
      "provenance": [],
      "authorship_tag": "ABX9TyNPdjKMuQfJIs9uURUx1H2Z",
      "include_colab_link": true
    },
    "kernelspec": {
      "name": "python3",
      "display_name": "Python 3"
    },
    "language_info": {
      "name": "python"
    }
  },
  "cells": [
    {
      "cell_type": "markdown",
      "metadata": {
        "id": "view-in-github",
        "colab_type": "text"
      },
      "source": [
        "<a href=\"https://colab.research.google.com/github/gracelin0711/20250218/blob/main/EX05_03_Reply_Multi_type_Messages.ipynb\" target=\"_parent\"><img src=\"https://colab.research.google.com/assets/colab-badge.svg\" alt=\"Open In Colab\"/></a>"
      ]
    },
    {
      "cell_type": "code",
      "execution_count": null,
      "metadata": {
        "id": "ZAhvp5FFuBlL"
      },
      "outputs": [],
      "source": []
    },
    {
      "cell_type": "code",
      "source": [
        "! pip install -q flask pyngrok flask_ngrok line-bot-sdk"
      ],
      "metadata": {
        "id": "xGTlZCUUuCL7"
      },
      "execution_count": 3,
      "outputs": []
    },
    {
      "cell_type": "code",
      "source": [
        "from multiprocessing import active_children\n",
        "# for colab\n",
        "from google.colab import userdata\n",
        "from pyngrok import ngrok\n",
        "from flask_ngrok import run_with_ngrok\n",
        "def ngrok_start():\n",
        "    ngrok.set_auth_token(userdata.get('NGROK_AUTHTOKEN_2'))\n",
        "    ngrok.connect(5000)\n",
        "    run_with_ngrok(app)\n",
        "\n",
        "\n",
        "from flask import Flask, request, abort\n",
        "\n",
        "from linebot.v3 import WebhookHandler\n",
        "from linebot.v3.exceptions import InvalidSignatureError\n",
        "from linebot.v3.webhooks import MessageEvent, TextMessageContent\n",
        "from linebot.v3.messaging import (\n",
        "    Configuration, ApiClient, MessagingApi,\n",
        "    ReplyMessageRequest,\n",
        "    TextMessage,\n",
        "    StickerMessage\n",
        "\n",
        ")\n",
        "\n",
        "app = Flask(__name__)\n",
        "\n",
        "configuration = Configuration(access_token=userdata.get('LINE_CHANNEL_ACCESS_TOKEN'))\n",
        "handler = WebhookHandler(userdata.get('LINE_CHANNEL_SECRET'))\n",
        "\n",
        "@app.route(\"/callback\", methods=['POST'])\n",
        "def callback():\n",
        "    signature = request.headers['X-Line-Signature']\n",
        "    body = request.get_data(as_text=True)\n",
        "    try:\n",
        "        handler.handle(body, signature)\n",
        "    except InvalidSignatureError:\n",
        "        abort(400)\n",
        "    return 'OK'\n",
        "\n",
        "import google.generativeai as genai\n",
        "\n",
        "genai.configure(api_key=userdata.get('GOOGLE_API_KEY'))\n",
        "model = genai.GenerativeModel(\"gemini-2.0-flash-exp\")\n",
        "def ask_gemini(question):\n",
        "    response = model.generate_content(question)\n",
        "    return response.text\n",
        "\n",
        "\n",
        "@handler.add(MessageEvent, message=TextMessageContent)\n",
        "def handle_message(event):\n",
        "    with ApiClient(configuration) as api_client:\n",
        "        line_bot_api = MessagingApi(api_client)\n",
        "\n",
        "        action = event.message.text\n",
        "        if action == 'sticker':\n",
        "          #回復貼圖\n",
        "          reply = StickerMessage(\n",
        "            package_id='446',\n",
        "            sticker_id='1989'\n",
        "          )\n",
        "        elif action == 'image':\n",
        "          #回復圖片\n",
        "        else:\n",
        "          response = ask_gemini(event.message.text)\n",
        "          reply = TextMessage(text=response)\n",
        "\n",
        "\n",
        "        line_bot_api.reply_message(\n",
        "            ReplyMessageRequest(\n",
        "                reply_token=event.reply_token,\n",
        "                messages=[\n",
        "                    reply\n",
        "                ]\n",
        "            )\n",
        "        )\n",
        "\n",
        "\n",
        "\n",
        "ngrok_start() # for colab\n",
        "if __name__ == \"__main__\":\n",
        "    app.run()"
      ],
      "metadata": {
        "colab": {
          "base_uri": "https://localhost:8080/",
          "height": 106
        },
        "id": "P8T9uxVRuCj0",
        "outputId": "cf3b2f00-bfc1-41d8-96e9-982a20c9ee2c"
      },
      "execution_count": 7,
      "outputs": [
        {
          "output_type": "error",
          "ename": "IndentationError",
          "evalue": "expected an indented block after 'elif' statement on line 61 (<ipython-input-7-3b15820003a2>, line 63)",
          "traceback": [
            "\u001b[0;36m  File \u001b[0;32m\"<ipython-input-7-3b15820003a2>\"\u001b[0;36m, line \u001b[0;32m63\u001b[0m\n\u001b[0;31m    else:\u001b[0m\n\u001b[0m    ^\u001b[0m\n\u001b[0;31mIndentationError\u001b[0m\u001b[0;31m:\u001b[0m expected an indented block after 'elif' statement on line 61\n"
          ]
        }
      ]
    },
    {
      "source": [
        "from multiprocessing import active_children\n",
        "# for colab\n",
        "from google.colab import userdata\n",
        "from pyngrok import ngrok\n",
        "from flask_ngrok import run_with_ngrok\n",
        "def ngrok_start():\n",
        "    ngrok.set_auth_token(userdata.get('NGROK_AUTHTOKEN_2'))\n",
        "    ngrok.connect(5000)\n",
        "    run_with_ngrok(app)\n",
        "\n",
        "\n",
        "from flask import Flask, request, abort\n",
        "\n",
        "from linebot.v3 import WebhookHandler\n",
        "from linebot.v3.exceptions import InvalidSignatureError\n",
        "from linebot.v3.webhooks import MessageEvent, TextMessageContent\n",
        "from linebot.v3.messaging import (\n",
        "    Configuration, ApiClient, MessagingApi,\n",
        "    ReplyMessageRequest,\n",
        "    TextMessage,\n",
        "    StickerMessage,  # 保留 StickerMessage\n",
        "    ImageMessage,\n",
        "    VideoMessage,\n",
        "    LocationMessage\n",
        "\n",
        ")\n",
        "\n",
        "app = Flask(__name__)\n",
        "\n",
        "configuration = Configuration(access_token=userdata.get('LINE_CHANNEL_ACCESS_TOKEN'))\n",
        "handler = WebhookHandler(userdata.get('LINE_CHANNEL_SECRET'))\n",
        "\n",
        "@app.route(\"/callback\", methods=['POST'])\n",
        "def callback():\n",
        "    signature = request.headers['X-Line-Signature']\n",
        "    body = request.get_data(as_text=True)\n",
        "    try:\n",
        "        handler.handle(body, signature)\n",
        "    except InvalidSignatureError:\n",
        "        abort(400)\n",
        "    return 'OK'\n",
        "\n",
        "import google.generativeai as genai\n",
        "\n",
        "genai.configure(api_key=userdata.get('GOOGLE_API_KEY'))\n",
        "model = genai.GenerativeModel(\"gemini-2.0-flash-exp\")\n",
        "def ask_gemini(question):\n",
        "    response = model.generate_content(question)\n",
        "    return response.text\n",
        "\n",
        "\n",
        "@handler.add(MessageEvent, message=TextMessageContent)\n",
        "def handle_message(event):\n",
        "    with ApiClient(configuration) as api_client:\n",
        "        line_bot_api = MessagingApi(api_client)\n",
        "\n",
        "        action = event.message.text\n",
        "        if action == 'sticker':\n",
        "          #回復貼圖\n",
        "          reply = StickerMessage(\n",
        "            package_id='446',\n",
        "            sticker_id='1989'\n",
        "          )\n",
        "        elif action == 'image':\n",
        "          #回復圖片\n",
        "          reply = ImageMessage(\n",
        "            original_content_url='https://www.eclathotels.com/zt/taipei/local-attractions/taipei-101',\n",
        "            preview_image_url='https://image-tc.galaxy.tf/wijpeg-19za0ro24q24b9b9ez8lz2e9x/taipei-101_standard.jpg?crop=112%2C0%2C1777%2C1333'\n",
        "          )\n",
        "        elif action == 'video':\n",
        "          reply = VideoMessage(\n",
        "            original_content_url='https://www.istockphoto.com/video/cloudy-sunset-taipei-city-famous-tower-top-aerial-cityscape-panorama-4k-taiwan-gm941545676-257322407?utm_source=pixabay&utm_medium=affiliate&utm_campaign=sponsored_video&utm_content=srp_topbanner_media&utm_term=101+video',\n",
        "            preview_image_url='https://www.istockphoto.com/video/cloudy-sunset-taipei-city-famous-tower-top-aerial-cityscape-panorama-4k-taiwan-gm941545676-257322407?utm_source=pixabay&utm_medium=affiliate&utm_campaign=sponsored_video&utm_content=srp_topbanner_media&utm_term=101+video'\n",
        "          )\n",
        "        elif action == 'Location':\n",
        "          reply = LocationMessage(\n",
        "            title=\"台北101\",\n",
        "            address=\"110台北市信義區市府路45號\",\n",
        "            latitude=25.035716421412378,\n",
        "            longitude=121.5640211985057\n",
        "          )\n",
        "\n",
        "        else:\n",
        "          response = ask_gemini(event.message.text)\n",
        "          reply = TextMessage(text=response)\n",
        "\n",
        "\n",
        "        line_bot_api.reply_message(\n",
        "            ReplyMessageRequest(\n",
        "                reply_token=event.reply_token,\n",
        "                messages=[\n",
        "                    reply\n",
        "                ]\n",
        "            )\n",
        "        )\n",
        "\n",
        "\n",
        "\n",
        "ngrok_start() # for colab\n",
        "if __name__ == \"__main__\":\n",
        "    app.run()"
      ],
      "cell_type": "code",
      "metadata": {
        "colab": {
          "base_uri": "https://localhost:8080/",
          "height": 367
        },
        "id": "Sdrqlp9rxbnN",
        "outputId": "5158f7fa-30f2-4f8c-8852-14827f2cd3b1"
      },
      "execution_count": null,
      "outputs": [
        {
          "output_type": "stream",
          "name": "stdout",
          "text": [
            " * Serving Flask app '__main__'\n",
            " * Debug mode: off\n"
          ]
        },
        {
          "output_type": "stream",
          "name": "stderr",
          "text": [
            "INFO:werkzeug:\u001b[31m\u001b[1mWARNING: This is a development server. Do not use it in a production deployment. Use a production WSGI server instead.\u001b[0m\n",
            " * Running on http://127.0.0.1:5000\n",
            "INFO:werkzeug:\u001b[33mPress CTRL+C to quit\u001b[0m\n"
          ]
        },
        {
          "output_type": "stream",
          "name": "stdout",
          "text": [
            " * Running on http://0de1-34-125-4-162.ngrok-free.app\n",
            " * Traffic stats available on http://127.0.0.1:4040\n"
          ]
        },
        {
          "output_type": "stream",
          "name": "stderr",
          "text": [
            "INFO:werkzeug:127.0.0.1 - - [06/May/2025 09:05:04] \"\u001b[33mGET / HTTP/1.1\u001b[0m\" 404 -\n",
            "INFO:werkzeug:127.0.0.1 - - [06/May/2025 09:05:05] \"\u001b[33mGET /favicon.ico HTTP/1.1\u001b[0m\" 404 -\n",
            "INFO:werkzeug:127.0.0.1 - - [06/May/2025 09:05:21] \"POST /callback HTTP/1.1\" 200 -\n",
            "INFO:werkzeug:127.0.0.1 - - [06/May/2025 09:05:33] \"POST /callback HTTP/1.1\" 200 -\n",
            "INFO:werkzeug:127.0.0.1 - - [06/May/2025 09:05:45] \"POST /callback HTTP/1.1\" 200 -\n",
            "INFO:werkzeug:127.0.0.1 - - [06/May/2025 09:05:54] \"POST /callback HTTP/1.1\" 200 -\n",
            "INFO:werkzeug:127.0.0.1 - - [06/May/2025 09:06:07] \"POST /callback HTTP/1.1\" 200 -\n",
            "INFO:werkzeug:127.0.0.1 - - [06/May/2025 09:07:22] \"POST /callback HTTP/1.1\" 200 -\n",
            "INFO:werkzeug:127.0.0.1 - - [06/May/2025 09:08:19] \"POST /callback HTTP/1.1\" 200 -\n",
            "INFO:werkzeug:127.0.0.1 - - [06/May/2025 09:09:11] \"POST /callback HTTP/1.1\" 200 -\n",
            "INFO:werkzeug:127.0.0.1 - - [06/May/2025 09:09:42] \"POST /callback HTTP/1.1\" 200 -\n",
            "INFO:werkzeug:127.0.0.1 - - [06/May/2025 09:09:51] \"POST /callback HTTP/1.1\" 200 -\n"
          ]
        }
      ]
    },
    {
      "cell_type": "code",
      "source": [],
      "metadata": {
        "id": "5nlyGRkbxdp2"
      },
      "execution_count": null,
      "outputs": []
    }
  ]
}