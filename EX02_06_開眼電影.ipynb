{
  "nbformat": 4,
  "nbformat_minor": 0,
  "metadata": {
    "colab": {
      "provenance": [],
      "mount_file_id": "1pktR4bg1MHGy9VRXuSogB0fcUkBrKgf9",
      "authorship_tag": "ABX9TyO4H5JoOh2t3+nwhbdTo8Fl",
      "include_colab_link": true
    },
    "kernelspec": {
      "name": "python3",
      "display_name": "Python 3"
    },
    "language_info": {
      "name": "python"
    }
  },
  "cells": [
    {
      "cell_type": "markdown",
      "metadata": {
        "id": "view-in-github",
        "colab_type": "text"
      },
      "source": [
        "<a href=\"https://colab.research.google.com/github/gracelin0711/20250218/blob/main/EX02_06_%E9%96%8B%E7%9C%BC%E9%9B%BB%E5%BD%B1.ipynb\" target=\"_parent\"><img src=\"https://colab.research.google.com/assets/colab-badge.svg\" alt=\"Open In Colab\"/></a>"
      ]
    },
    {
      "cell_type": "code",
      "execution_count": 1,
      "metadata": {
        "colab": {
          "base_uri": "https://localhost:8080/"
        },
        "id": "k9DdUuRJQDfj",
        "outputId": "0f7de9c9-e6ad-4fc2-ac97-55c190b7f476"
      },
      "outputs": [
        {
          "output_type": "execute_result",
          "data": {
            "text/plain": [
              "<title>開眼電影網首頁--近期上映--</title>"
            ]
          },
          "metadata": {},
          "execution_count": 1
        }
      ],
      "source": [
        "import requests\n",
        "from bs4 import BeautifulSoup\n",
        "\n",
        "url = 'http://www.atmovies.com.tw/movie/next/'\n",
        "html = requests.get(url)\n",
        "html.encoding=\"utf-8\"\n",
        "soup = BeautifulSoup(html.text, 'lxml')\n",
        "soup.title"
      ]
    },
    {
      "cell_type": "code",
      "source": [
        "import os\n",
        "import csv\n",
        "if not os.path.exists('./content/movies'):\n",
        "   os.makedirs('./content/movies')\n",
        "\n",
        "movies = [['電影','上映日期']]\n",
        "\n",
        "for mv in soup.find('ul',class_='filmListAllX').find_all('li'):\n",
        "   ttl = mv.img['alt']\n",
        "   src = mv.img['src'].strip()\n",
        "   dat = mv.find('div',class_='runtime').text\n",
        "   dat = dat[5:15]\n",
        "   movies.append([ttl,dat])\n",
        "   print(ttl,dat,src)\n",
        "\n",
        "   reponse = requests.get(src)\n",
        "   with open(f'./content/movies/{ttl}.jpg','wb') as f:\n",
        "      f.write(reponse.content)\n",
        "\n",
        "with open(f'./content/movies/{ttl}.jpg','w',newline='') as f:\n",
        "  writer = csv.writer(f)\n",
        "  writer.writerows(movies)\n"
      ],
      "metadata": {
        "colab": {
          "base_uri": "https://localhost:8080/"
        },
        "id": "7-QnF4YxSC7s",
        "outputId": "17bf66bd-8644-4d1f-cfde-3099bc88ff9f"
      },
      "execution_count": 11,
      "outputs": [
        {
          "output_type": "stream",
          "name": "stdout",
          "text": [
            "我依然在此 2025/04/02 http://www.atmovies.com.tw/photo101/fipt14961016/pl_fipt14961016_0002.jpg\n",
            "MINECRAFT麥塊電影 2025/04/02 http://www.atmovies.com.tw/photo101/faen83566834/pl_faen83566834_0005.jpg\n",
            "會計師 2 2025/04/24 http://www.atmovies.com.tw/photo101/faen47068946/pl_faen47068946_0001.jpg\n",
            "直到黎明 2025/04/25 http://www.atmovies.com.tw/photo101/fuen30955489/pl_fuen30955489_0001.jpg\n",
            "黑袋行動 2025/04/30 http://www.atmovies.com.tw/photo101/fben30988739/pl_fben30988739_0001.jpg\n",
            "雷霆特攻隊* 2025/04/30 http://www.atmovies.com.tw/photo101/ften20969586/pl_ften20969586_0005.jpg\n",
            "不可能的任務：最終清算 2025/05/23 http://www.atmovies.com.tw/photo101/fmen62168299/pl_fmen62168299_0003.jpg\n",
            "馴龍高手 2025/06/11 http://www.atmovies.com.tw/photo101/fhen26743210/pl_fhen26743210_0001.jpg\n",
            "天作之合 2025/06/13 http://www.atmovies.com.tw/photo101/fmen30253473/pl_fmen30253473_0001.jpg\n",
            "28年毀滅倒數 2025/06/18 http://www.atmovies.com.tw/photo101/fyen10548174/pl_fyen10548174_0001.jpg\n",
            "名偵探柯南：獨眼的殘像 2025/06/25 http://www.atmovies.com.tw/photo101/fdjp35891502/pl_fdjp35891502_0001.jpg\n",
            "F1® 2025/06/26 http://www.atmovies.com.tw/photo101/ffen16311594/pl_ffen16311594_0001.jpg\n",
            "窒友梅根 2.0 2025/06/27 http://www.atmovies.com.tw/photo101/fmen26342662/pl_fmen26342662_0001.jpg\n",
            "侏羅紀世界：重生 2025/07/04 http://www.atmovies.com.tw/photo101/fjen31036941/pl_fjen31036941_0001.jpg\n",
            "超人 2025/07/11 http://www.atmovies.com.tw/photo101/fsen45950044/pl_fsen45950044_0001.jpg\n",
            "驚奇4超人：第一步 2025/07/23 http://www.atmovies.com.tw/photo101/ffen10676052/pl_ffen10676052_0007.jpg\n",
            "壞蛋聯盟2 2025/08/01 http://www.atmovies.com.tw/photo101/fben30017619/pl_fben30017619_0001.jpg\n",
            "劇場版「鬼滅之刃」無限城篇 2025/08/08 http://www.atmovies.com.tw/photo101/fdjp32820897/pl_fdjp32820897_0001.jpg\n",
            "動物方城市2 2025/11/26 http://www.atmovies.com.tw/photo101/fzen31187839/pl_fzen31187839_0001.jpg\n",
            "阿凡達：火與灰燼 2025/12/18 http://www.atmovies.com.tw/photo101/faen71757678/pl_faen71757678_0001.jpg\n",
            "玩具總動員5 2026/06/19 http://www.atmovies.com.tw/photo101/ften29355505/pl_ften29355505_0001.jpg\n"
          ]
        }
      ]
    }
  ]
}